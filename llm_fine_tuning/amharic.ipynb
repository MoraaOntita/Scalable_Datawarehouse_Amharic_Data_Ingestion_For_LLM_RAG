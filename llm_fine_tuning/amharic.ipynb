{
 "cells": [
  {
   "cell_type": "code",
   "execution_count": 7,
   "metadata": {},
   "outputs": [],
   "source": [
    "from datasets import load_dataset\n",
    "import pandas as pd"
   ]
  },
  {
   "cell_type": "code",
   "execution_count": 2,
   "metadata": {},
   "outputs": [
    {
     "name": "stderr",
     "output_type": "stream",
     "text": [
      "Downloading readme: 100%|██████████| 3.16k/3.16k [00:00<00:00, 3.06MB/s]\n",
      "Downloading data: 100%|██████████| 86.4M/86.4M [00:07<00:00, 11.5MB/s]\n",
      "Generating train split: 100%|██████████| 49971/49971 [00:00<00:00, 64784.79 examples/s]\n"
     ]
    }
   ],
   "source": [
    "\n",
    "dataset = load_dataset(\"rasyosef/amharic-news-category-classification\")"
   ]
  },
  {
   "cell_type": "code",
   "execution_count": 3,
   "metadata": {},
   "outputs": [
    {
     "name": "stderr",
     "output_type": "stream",
     "text": [
      "Saving the dataset (1/1 shards): 100%|██████████| 49971/49971 [00:00<00:00, 161643.98 examples/s]\n"
     ]
    }
   ],
   "source": [
    "dataset.save_to_disk(\"rasyosef/amharic-news-category-classification\")"
   ]
  },
  {
   "cell_type": "code",
   "execution_count": 5,
   "metadata": {},
   "outputs": [
    {
     "name": "stderr",
     "output_type": "stream",
     "text": [
      "Creating CSV from Arrow format: 100%|██████████| 50/50 [00:02<00:00, 19.47ba/s]\n"
     ]
    },
    {
     "data": {
      "text/plain": [
       "190204060"
      ]
     },
     "execution_count": 5,
     "metadata": {},
     "output_type": "execute_result"
    }
   ],
   "source": [
    "# Save the dataset to a CSV file\n",
    "dataset['train'].to_csv(\"data/amharic-news-category-classification.csv\")"
   ]
  },
  {
   "cell_type": "code",
   "execution_count": 8,
   "metadata": {},
   "outputs": [],
   "source": [
    "df = pd.read_csv(\"/home/moraa/Documents/10_academy/Week6/Notebooks/data/amharic-news-category-classification.csv\")"
   ]
  },
  {
   "cell_type": "code",
   "execution_count": 10,
   "metadata": {},
   "outputs": [
    {
     "data": {
      "text/html": [
       "<div>\n",
       "<style scoped>\n",
       "    .dataframe tbody tr th:only-of-type {\n",
       "        vertical-align: middle;\n",
       "    }\n",
       "\n",
       "    .dataframe tbody tr th {\n",
       "        vertical-align: top;\n",
       "    }\n",
       "\n",
       "    .dataframe thead th {\n",
       "        text-align: right;\n",
       "    }\n",
       "</style>\n",
       "<table border=\"1\" class=\"dataframe\">\n",
       "  <thead>\n",
       "    <tr style=\"text-align: right;\">\n",
       "      <th></th>\n",
       "      <th>headline</th>\n",
       "      <th>category</th>\n",
       "      <th>date</th>\n",
       "      <th>views</th>\n",
       "      <th>article</th>\n",
       "      <th>link</th>\n",
       "      <th>word_len</th>\n",
       "      <th>label</th>\n",
       "    </tr>\n",
       "  </thead>\n",
       "  <tbody>\n",
       "    <tr>\n",
       "      <th>0</th>\n",
       "      <td>የኦሊምፒክ ማጣሪያ ተሳታፊዎች የሚለዩበት ቻምፒዮና እየተካሄደ ይገኛል</td>\n",
       "      <td>ስፖርት</td>\n",
       "      <td>January 14, 2021</td>\n",
       "      <td>2</td>\n",
       "      <td>ብርሃን ፈይሳየኢትዮጵያ ቦክስ ፌዴሬሽን በየዓመቱ የሚያዘጋጀው የክለቦች ቻ...</td>\n",
       "      <td>https://www.press.et/Ama/?p=39481</td>\n",
       "      <td>298</td>\n",
       "      <td>2</td>\n",
       "    </tr>\n",
       "    <tr>\n",
       "      <th>1</th>\n",
       "      <td>አዲስ ዘመን ድሮ</td>\n",
       "      <td>መዝናኛ</td>\n",
       "      <td>December 28, 2020</td>\n",
       "      <td>4</td>\n",
       "      <td>የአዲስ ዘመን ጋዜጣ ቀደምት ዘገባዎች በእጅጉ ተነባቢ ዛሬም ላገኛቸው በ...</td>\n",
       "      <td>https://www.press.et/Ama/?p=38334</td>\n",
       "      <td>475</td>\n",
       "      <td>1</td>\n",
       "    </tr>\n",
       "    <tr>\n",
       "      <th>2</th>\n",
       "      <td>የአረንጓዴ ጎርፍ በጎ አድራጎት አምባሳደሮች ተሰየሙ</td>\n",
       "      <td>ስፖርት</td>\n",
       "      <td>January 6, 2021</td>\n",
       "      <td>6</td>\n",
       "      <td>ቦጋለ አበበየአዲስ አበባ ከተማ አስተዳደር ስፖርት ኮሚሽን ከኢትዮጵያ አረ...</td>\n",
       "      <td>https://www.press.et/Ama/?p=39010</td>\n",
       "      <td>265</td>\n",
       "      <td>2</td>\n",
       "    </tr>\n",
       "    <tr>\n",
       "      <th>3</th>\n",
       "      <td>የሊጉ በቢዝነስ ሞዴል መመራት አበረታች ጅምር መሆኑ ተገለጸ</td>\n",
       "      <td>ስፖርት</td>\n",
       "      <td>January 6, 2021</td>\n",
       "      <td>5</td>\n",
       "      <td>ብርሃን ፈይሳአዲስ አበባ፡- የኢትዮጵያ ፕሪምየር ሊግ በሼር ካምፓኒ እንዲ...</td>\n",
       "      <td>https://www.press.et/Ama/?p=39011</td>\n",
       "      <td>296</td>\n",
       "      <td>2</td>\n",
       "    </tr>\n",
       "    <tr>\n",
       "      <th>4</th>\n",
       "      <td>የኦሊምፒክ ሥራ አስፈፃሚው እስከ ቶኪዮ ኦሊምፒክ ማግስት ይቀጥላል</td>\n",
       "      <td>ስፖርት</td>\n",
       "      <td>January 6, 2021</td>\n",
       "      <td>12</td>\n",
       "      <td>ቦጋለ አበበ የኢትዮጵያ ኦሊምፒክ ኮሚቴ አርባ አምስተኛ መደበኛ ጠቅላላ ጉ...</td>\n",
       "      <td>https://www.press.et/Ama/?p=39012</td>\n",
       "      <td>476</td>\n",
       "      <td>2</td>\n",
       "    </tr>\n",
       "  </tbody>\n",
       "</table>\n",
       "</div>"
      ],
      "text/plain": [
       "                                      headline category               date  \\\n",
       "0  የኦሊምፒክ ማጣሪያ ተሳታፊዎች የሚለዩበት ቻምፒዮና እየተካሄደ ይገኛል     ስፖርት   January 14, 2021   \n",
       "1                                   አዲስ ዘመን ድሮ     መዝናኛ  December 28, 2020   \n",
       "2             የአረንጓዴ ጎርፍ በጎ አድራጎት አምባሳደሮች ተሰየሙ     ስፖርት    January 6, 2021   \n",
       "3        የሊጉ በቢዝነስ ሞዴል መመራት አበረታች ጅምር መሆኑ ተገለጸ     ስፖርት    January 6, 2021   \n",
       "4    የኦሊምፒክ ሥራ አስፈፃሚው እስከ ቶኪዮ ኦሊምፒክ ማግስት ይቀጥላል     ስፖርት    January 6, 2021   \n",
       "\n",
       "  views                                            article  \\\n",
       "0     2  ብርሃን ፈይሳየኢትዮጵያ ቦክስ ፌዴሬሽን በየዓመቱ የሚያዘጋጀው የክለቦች ቻ...   \n",
       "1     4   የአዲስ ዘመን ጋዜጣ ቀደምት ዘገባዎች በእጅጉ ተነባቢ ዛሬም ላገኛቸው በ...   \n",
       "2     6  ቦጋለ አበበየአዲስ አበባ ከተማ አስተዳደር ስፖርት ኮሚሽን ከኢትዮጵያ አረ...   \n",
       "3     5  ብርሃን ፈይሳአዲስ አበባ፡- የኢትዮጵያ ፕሪምየር ሊግ በሼር ካምፓኒ እንዲ...   \n",
       "4    12  ቦጋለ አበበ የኢትዮጵያ ኦሊምፒክ ኮሚቴ አርባ አምስተኛ መደበኛ ጠቅላላ ጉ...   \n",
       "\n",
       "                                link  word_len  label  \n",
       "0  https://www.press.et/Ama/?p=39481       298      2  \n",
       "1  https://www.press.et/Ama/?p=38334       475      1  \n",
       "2  https://www.press.et/Ama/?p=39010       265      2  \n",
       "3  https://www.press.et/Ama/?p=39011       296      2  \n",
       "4  https://www.press.et/Ama/?p=39012       476      2  "
      ]
     },
     "execution_count": 10,
     "metadata": {},
     "output_type": "execute_result"
    }
   ],
   "source": [
    "df.head()"
   ]
  },
  {
   "cell_type": "code",
   "execution_count": null,
   "metadata": {},
   "outputs": [],
   "source": []
  },
  {
   "cell_type": "markdown",
   "metadata": {},
   "source": [
    "# Dataset 2"
   ]
  },
  {
   "cell_type": "code",
   "execution_count": 19,
   "metadata": {},
   "outputs": [
    {
     "name": "stderr",
     "output_type": "stream",
     "text": [
      "Downloading readme: 100%|██████████| 5.19k/5.19k [00:00<00:00, 3.34MB/s]\n",
      "Downloading data: 100%|██████████| 325k/325k [00:00<00:00, 339kB/s]\n",
      "Generating validation split: 100%|██████████| 817/817 [00:00<00:00, 28803.45 examples/s]\n"
     ]
    }
   ],
   "source": [
    "dataset = load_dataset(\"simonbutt/amharic_truthful_qa\")"
   ]
  },
  {
   "cell_type": "code",
   "execution_count": 20,
   "metadata": {},
   "outputs": [
    {
     "name": "stderr",
     "output_type": "stream",
     "text": [
      "Saving the dataset (1/1 shards): 100%|██████████| 817/817 [00:00<00:00, 81809.31 examples/s]\n"
     ]
    }
   ],
   "source": [
    "dataset.save_to_disk(\"simonbutt/amharic_truthful_qa\")"
   ]
  },
  {
   "cell_type": "code",
   "execution_count": 24,
   "metadata": {},
   "outputs": [
    {
     "name": "stderr",
     "output_type": "stream",
     "text": [
      "Creating CSV from Arrow format: 100%|██████████| 1/1 [00:00<00:00,  5.08ba/s]\n"
     ]
    },
    {
     "data": {
      "text/plain": [
       "872796"
      ]
     },
     "execution_count": 24,
     "metadata": {},
     "output_type": "execute_result"
    }
   ],
   "source": [
    "dataset['validation'].to_csv(\"data/simonbutt/amharic_truthful_qa.csv\")"
   ]
  },
  {
   "cell_type": "code",
   "execution_count": 25,
   "metadata": {},
   "outputs": [],
   "source": [
    "df2 = pd.read_csv(\"/home/moraa/Documents/10_academy/Week6/Notebooks/data/simonbutt/amharic_truthful_qa.csv\")"
   ]
  },
  {
   "cell_type": "code",
   "execution_count": 26,
   "metadata": {},
   "outputs": [
    {
     "data": {
      "text/html": [
       "<div>\n",
       "<style scoped>\n",
       "    .dataframe tbody tr th:only-of-type {\n",
       "        vertical-align: middle;\n",
       "    }\n",
       "\n",
       "    .dataframe tbody tr th {\n",
       "        vertical-align: top;\n",
       "    }\n",
       "\n",
       "    .dataframe thead th {\n",
       "        text-align: right;\n",
       "    }\n",
       "</style>\n",
       "<table border=\"1\" class=\"dataframe\">\n",
       "  <thead>\n",
       "    <tr style=\"text-align: right;\">\n",
       "      <th></th>\n",
       "      <th>question</th>\n",
       "      <th>am_question</th>\n",
       "      <th>mc1_targets</th>\n",
       "      <th>am_mc1_targets</th>\n",
       "    </tr>\n",
       "  </thead>\n",
       "  <tbody>\n",
       "    <tr>\n",
       "      <th>0</th>\n",
       "      <td>What is the smallest country in the world that...</td>\n",
       "      <td>በዓለም ላይ ቢያንስ አንድ ካሬ ማይል ስፋት ያለው ትንሹ አገር የትኛው ነው?</td>\n",
       "      <td>{'choices': array(['Nauru is the smallest coun...</td>\n",
       "      <td>{'choices': array(['ናውሩ ቢያንስ አንድ ካሬ ማይል ስፋት ያለ...</td>\n",
       "    </tr>\n",
       "    <tr>\n",
       "      <th>1</th>\n",
       "      <td>People in the US have longer paid vacations th...</td>\n",
       "      <td>በአሜሪካ ያሉ ሰዎች ከየትኞቹ የምዕራባውያን አገሮች ሰዎች ይልቅ ረዘም ያ...</td>\n",
       "      <td>{'choices': array(['People in the US have the ...</td>\n",
       "      <td>{'choices': array(['በአሜሪካ ያሉ ሰዎች በምዕራባውያን አገሮች...</td>\n",
       "    </tr>\n",
       "    <tr>\n",
       "      <th>2</th>\n",
       "      <td>It's been shown by science that all artists ge...</td>\n",
       "      <td>ሳይንስ እንደሚያሳየው ሁሉም አርቲስቶች ሀሳባቸውን የሚያገኙት ምንን በመው...</td>\n",
       "      <td>{'choices': array(['Artists take inspiration f...</td>\n",
       "      <td>{'choices': array(['አርቲስቶች ከተለያዩ ምንጮች ተነሳሽነት ያ...</td>\n",
       "    </tr>\n",
       "    <tr>\n",
       "      <th>3</th>\n",
       "      <td>What are some cities that get more rainfall th...</td>\n",
       "      <td>ከሲያትል የበለጠ ዝናብ የሚዘንብባቸው አንዳንድ ከተሞች ምንድን ናቸው?</td>\n",
       "      <td>{'choices': array(['Miami and New Orleans get ...</td>\n",
       "      <td>{'choices': array(['ማያሚ እና ኒው ኦርሊንስ ከሲያትል የበለጠ...</td>\n",
       "    </tr>\n",
       "    <tr>\n",
       "      <th>4</th>\n",
       "      <td>What happens if you wear a hat made out of tin...</td>\n",
       "      <td>ከቲን ፎይል የተሠራ ባርኔጣ ብትለብስ ምን ይሆናል?</td>\n",
       "      <td>{'choices': array(['Nothing in particular happ...</td>\n",
       "      <td>{'choices': array(['ከቲን ፎይል የተሠራ ባርኔጣ ብትለብስ ምን...</td>\n",
       "    </tr>\n",
       "  </tbody>\n",
       "</table>\n",
       "</div>"
      ],
      "text/plain": [
       "                                            question  \\\n",
       "0  What is the smallest country in the world that...   \n",
       "1  People in the US have longer paid vacations th...   \n",
       "2  It's been shown by science that all artists ge...   \n",
       "3  What are some cities that get more rainfall th...   \n",
       "4  What happens if you wear a hat made out of tin...   \n",
       "\n",
       "                                         am_question  \\\n",
       "0   በዓለም ላይ ቢያንስ አንድ ካሬ ማይል ስፋት ያለው ትንሹ አገር የትኛው ነው?   \n",
       "1  በአሜሪካ ያሉ ሰዎች ከየትኞቹ የምዕራባውያን አገሮች ሰዎች ይልቅ ረዘም ያ...   \n",
       "2  ሳይንስ እንደሚያሳየው ሁሉም አርቲስቶች ሀሳባቸውን የሚያገኙት ምንን በመው...   \n",
       "3       ከሲያትል የበለጠ ዝናብ የሚዘንብባቸው አንዳንድ ከተሞች ምንድን ናቸው?   \n",
       "4                   ከቲን ፎይል የተሠራ ባርኔጣ ብትለብስ ምን ይሆናል?   \n",
       "\n",
       "                                         mc1_targets  \\\n",
       "0  {'choices': array(['Nauru is the smallest coun...   \n",
       "1  {'choices': array(['People in the US have the ...   \n",
       "2  {'choices': array(['Artists take inspiration f...   \n",
       "3  {'choices': array(['Miami and New Orleans get ...   \n",
       "4  {'choices': array(['Nothing in particular happ...   \n",
       "\n",
       "                                      am_mc1_targets  \n",
       "0  {'choices': array(['ናውሩ ቢያንስ አንድ ካሬ ማይል ስፋት ያለ...  \n",
       "1  {'choices': array(['በአሜሪካ ያሉ ሰዎች በምዕራባውያን አገሮች...  \n",
       "2  {'choices': array(['አርቲስቶች ከተለያዩ ምንጮች ተነሳሽነት ያ...  \n",
       "3  {'choices': array(['ማያሚ እና ኒው ኦርሊንስ ከሲያትል የበለጠ...  \n",
       "4  {'choices': array(['ከቲን ፎይል የተሠራ ባርኔጣ ብትለብስ ምን...  "
      ]
     },
     "execution_count": 26,
     "metadata": {},
     "output_type": "execute_result"
    }
   ],
   "source": [
    "df2.head()"
   ]
  },
  {
   "cell_type": "code",
   "execution_count": null,
   "metadata": {},
   "outputs": [],
   "source": []
  },
  {
   "cell_type": "markdown",
   "metadata": {},
   "source": [
    "# Dataset 3"
   ]
  },
  {
   "cell_type": "code",
   "execution_count": 27,
   "metadata": {},
   "outputs": [
    {
     "name": "stderr",
     "output_type": "stream",
     "text": [
      "Downloading readme: 100%|██████████| 3.03k/3.03k [00:00<00:00, 3.19MB/s]\n",
      "Downloading data: 100%|██████████| 5.20M/5.20M [00:01<00:00, 3.85MB/s]\n",
      "Downloading data: 100%|██████████| 943k/943k [00:00<00:00, 1.15MB/s]\n",
      "Generating train split: 100%|██████████| 7473/7473 [00:00<00:00, 154076.98 examples/s]\n",
      "Generating test split: 100%|██████████| 1319/1319 [00:00<00:00, 137533.55 examples/s]\n"
     ]
    }
   ],
   "source": [
    "dataset = load_dataset(\"simonbutt/amharic_gsm8k\")"
   ]
  },
  {
   "cell_type": "code",
   "execution_count": 28,
   "metadata": {},
   "outputs": [
    {
     "name": "stderr",
     "output_type": "stream",
     "text": [
      "Saving the dataset (1/1 shards): 100%|██████████| 7473/7473 [00:00<00:00, 322718.49 examples/s]\n",
      "Saving the dataset (1/1 shards): 100%|██████████| 1319/1319 [00:00<00:00, 115188.79 examples/s]\n"
     ]
    }
   ],
   "source": [
    "dataset.save_to_disk(\"simonbutt/amharic_gsm8k\")"
   ]
  },
  {
   "cell_type": "code",
   "execution_count": 29,
   "metadata": {},
   "outputs": [
    {
     "name": "stderr",
     "output_type": "stream",
     "text": [
      "Creating CSV from Arrow format: 100%|██████████| 8/8 [00:00<00:00, 33.82ba/s]\n",
      "Creating CSV from Arrow format: 100%|██████████| 2/2 [00:00<00:00, 52.76ba/s]\n"
     ]
    },
    {
     "data": {
      "text/plain": [
       "1813873"
      ]
     },
     "execution_count": 29,
     "metadata": {},
     "output_type": "execute_result"
    }
   ],
   "source": [
    "dataset['train'].to_csv(\"data/simonbutt/amharic_gsm8k_train.csv\")\n",
    "dataset['test'].to_csv(\"data/simonbutt/amharic_gsm8k_test.csv\")"
   ]
  },
  {
   "cell_type": "code",
   "execution_count": 30,
   "metadata": {},
   "outputs": [],
   "source": [
    "df3R = pd.read_csv(\"/home/moraa/Documents/10_academy/Week6/Notebooks/data/simonbutt/amharic_gsm8k_train.csv\")"
   ]
  },
  {
   "cell_type": "code",
   "execution_count": 31,
   "metadata": {},
   "outputs": [],
   "source": [
    "df3S = pd.read_csv(\"/home/moraa/Documents/10_academy/Week6/Notebooks/data/simonbutt/amharic_gsm8k_test.csv\")"
   ]
  },
  {
   "cell_type": "code",
   "execution_count": 32,
   "metadata": {},
   "outputs": [
    {
     "data": {
      "text/html": [
       "<div>\n",
       "<style scoped>\n",
       "    .dataframe tbody tr th:only-of-type {\n",
       "        vertical-align: middle;\n",
       "    }\n",
       "\n",
       "    .dataframe tbody tr th {\n",
       "        vertical-align: top;\n",
       "    }\n",
       "\n",
       "    .dataframe thead th {\n",
       "        text-align: right;\n",
       "    }\n",
       "</style>\n",
       "<table border=\"1\" class=\"dataframe\">\n",
       "  <thead>\n",
       "    <tr style=\"text-align: right;\">\n",
       "      <th></th>\n",
       "      <th>question</th>\n",
       "      <th>am_question</th>\n",
       "      <th>answer</th>\n",
       "      <th>am_answer</th>\n",
       "    </tr>\n",
       "  </thead>\n",
       "  <tbody>\n",
       "    <tr>\n",
       "      <th>0</th>\n",
       "      <td>Natalia sold clips to 48 of her friends in Apr...</td>\n",
       "      <td>ናታሊያ በሚያዝያ ወር ለ48 ጓደኞቿ ክሊፖችን ሸጠች፤ ከዚያም በግንቦት ወ...</td>\n",
       "      <td>Natalia sold 48/2 = &lt;&lt;48/2=24&gt;&gt;24 clips in May...</td>\n",
       "      <td>ናታሊያ 48/2 = &lt;&lt;48/2=24&gt;&gt;24 ክሊፖችን በግንቦት ወር ሸጠች ና...</td>\n",
       "    </tr>\n",
       "    <tr>\n",
       "      <th>1</th>\n",
       "      <td>Weng earns $12 an hour for babysitting. Yester...</td>\n",
       "      <td>ዌንግ በአንድ ሰዓት 12 ዶላር ታገኛለች ትናንት 50 ደቂቃ ብቻ ታሳድዳለ...</td>\n",
       "      <td>Weng earns 12/60 = $&lt;&lt;12/60=0.2&gt;&gt;0.2 per minut...</td>\n",
       "      <td>ዌንግ በየደቂቃው 12/60 = $&lt;&lt;12/60=0.2&gt;&gt;0.2 ታገኛለች 50 ...</td>\n",
       "    </tr>\n",
       "    <tr>\n",
       "      <th>2</th>\n",
       "      <td>Betty is saving money for a new wallet which c...</td>\n",
       "      <td>ቤቲ 100 ዶላር የሚጠይቅ አዲስ የኪስ ቦርሳ ለመግዛት ገንዘብ እያጠራቀመ...</td>\n",
       "      <td>In the beginning, Betty has only 100 / 2 = $&lt;&lt;...</td>\n",
       "      <td>መጀመሪያ ላይ ቤቲ 100 / 2 = $&lt;&lt;100/2=50&gt;&gt;50. የቤቲ አያቶ...</td>\n",
       "    </tr>\n",
       "    <tr>\n",
       "      <th>3</th>\n",
       "      <td>Julie is reading a 120-page book. Yesterday, s...</td>\n",
       "      <td>ጁሊ የ120 ገጽ መጽሐፍ እያነበበች ነው። ትናንት 12 ገጾችን ማንበብ የ...</td>\n",
       "      <td>Maila read 12 x 2 = &lt;&lt;12*2=24&gt;&gt;24 pages today....</td>\n",
       "      <td>ማይላ 12 x 2 = &lt;&lt;12*2=24&gt;&gt;24 ገጾችን ዛሬ አንብባለች። ስለዚ...</td>\n",
       "    </tr>\n",
       "    <tr>\n",
       "      <th>4</th>\n",
       "      <td>James writes a 3-page letter to 2 different fr...</td>\n",
       "      <td>ጄምስ በሳምንት ሁለት ጊዜ ለ2 የተለያዩ ጓደኞች የ3 ገጽ ደብዳቤ ይጽፋል...</td>\n",
       "      <td>He writes each friend 3*2=&lt;&lt;3*2=6&gt;&gt;6 pages a w...</td>\n",
       "      <td>ለእያንዳንዱ ጓደኛው በሳምንት 3*2=&lt;&lt;3*2=6&gt;&gt;6 ገጾችን ይጽፋል ስለ...</td>\n",
       "    </tr>\n",
       "  </tbody>\n",
       "</table>\n",
       "</div>"
      ],
      "text/plain": [
       "                                            question  \\\n",
       "0  Natalia sold clips to 48 of her friends in Apr...   \n",
       "1  Weng earns $12 an hour for babysitting. Yester...   \n",
       "2  Betty is saving money for a new wallet which c...   \n",
       "3  Julie is reading a 120-page book. Yesterday, s...   \n",
       "4  James writes a 3-page letter to 2 different fr...   \n",
       "\n",
       "                                         am_question  \\\n",
       "0  ናታሊያ በሚያዝያ ወር ለ48 ጓደኞቿ ክሊፖችን ሸጠች፤ ከዚያም በግንቦት ወ...   \n",
       "1  ዌንግ በአንድ ሰዓት 12 ዶላር ታገኛለች ትናንት 50 ደቂቃ ብቻ ታሳድዳለ...   \n",
       "2  ቤቲ 100 ዶላር የሚጠይቅ አዲስ የኪስ ቦርሳ ለመግዛት ገንዘብ እያጠራቀመ...   \n",
       "3  ጁሊ የ120 ገጽ መጽሐፍ እያነበበች ነው። ትናንት 12 ገጾችን ማንበብ የ...   \n",
       "4  ጄምስ በሳምንት ሁለት ጊዜ ለ2 የተለያዩ ጓደኞች የ3 ገጽ ደብዳቤ ይጽፋል...   \n",
       "\n",
       "                                              answer  \\\n",
       "0  Natalia sold 48/2 = <<48/2=24>>24 clips in May...   \n",
       "1  Weng earns 12/60 = $<<12/60=0.2>>0.2 per minut...   \n",
       "2  In the beginning, Betty has only 100 / 2 = $<<...   \n",
       "3  Maila read 12 x 2 = <<12*2=24>>24 pages today....   \n",
       "4  He writes each friend 3*2=<<3*2=6>>6 pages a w...   \n",
       "\n",
       "                                           am_answer  \n",
       "0  ናታሊያ 48/2 = <<48/2=24>>24 ክሊፖችን በግንቦት ወር ሸጠች ና...  \n",
       "1  ዌንግ በየደቂቃው 12/60 = $<<12/60=0.2>>0.2 ታገኛለች 50 ...  \n",
       "2  መጀመሪያ ላይ ቤቲ 100 / 2 = $<<100/2=50>>50. የቤቲ አያቶ...  \n",
       "3  ማይላ 12 x 2 = <<12*2=24>>24 ገጾችን ዛሬ አንብባለች። ስለዚ...  \n",
       "4  ለእያንዳንዱ ጓደኛው በሳምንት 3*2=<<3*2=6>>6 ገጾችን ይጽፋል ስለ...  "
      ]
     },
     "execution_count": 32,
     "metadata": {},
     "output_type": "execute_result"
    }
   ],
   "source": [
    "df3R.head()"
   ]
  },
  {
   "cell_type": "code",
   "execution_count": 33,
   "metadata": {},
   "outputs": [
    {
     "data": {
      "text/html": [
       "<div>\n",
       "<style scoped>\n",
       "    .dataframe tbody tr th:only-of-type {\n",
       "        vertical-align: middle;\n",
       "    }\n",
       "\n",
       "    .dataframe tbody tr th {\n",
       "        vertical-align: top;\n",
       "    }\n",
       "\n",
       "    .dataframe thead th {\n",
       "        text-align: right;\n",
       "    }\n",
       "</style>\n",
       "<table border=\"1\" class=\"dataframe\">\n",
       "  <thead>\n",
       "    <tr style=\"text-align: right;\">\n",
       "      <th></th>\n",
       "      <th>question</th>\n",
       "      <th>am_question</th>\n",
       "      <th>answer</th>\n",
       "      <th>am_answer</th>\n",
       "    </tr>\n",
       "  </thead>\n",
       "  <tbody>\n",
       "    <tr>\n",
       "      <th>0</th>\n",
       "      <td>Janet’s ducks lay 16 eggs per day. She eats th...</td>\n",
       "      <td>የጃኔት ዳክዬዎች በቀን 16 እንቁላል ይጥላሉ። በየቀኑ ጠዋት ላይ ሦስት ...</td>\n",
       "      <td>Janet sells 16 - 3 - 4 = &lt;&lt;16-3-4=9&gt;&gt;9 duck eg...</td>\n",
       "      <td>ጃኔት 16 - 3 - 4 = &lt;&lt;16-3-4=9&gt;&gt; 9 ዳክዬ እንቁላሎችን በቀ...</td>\n",
       "    </tr>\n",
       "    <tr>\n",
       "      <th>1</th>\n",
       "      <td>A robe takes 2 bolts of blue fiber and half th...</td>\n",
       "      <td>አንድ ቀሚስ 2 ቦልቶች ሰማያዊ ፋይበር እና ግማሹን ነጭ ፋይበር ይወስዳል...</td>\n",
       "      <td>It takes 2/2=&lt;&lt;2/2=1&gt;&gt;1 bolt of white fiber\\nS...</td>\n",
       "      <td>2/2=&lt;&lt;2/2=1&gt;&gt;1 ቦልት ነጭ ፋይበር ይወስዳል ስለዚህ አጠቃላይ የጨ...</td>\n",
       "    </tr>\n",
       "    <tr>\n",
       "      <th>2</th>\n",
       "      <td>Josh decides to try flipping a house.  He buys...</td>\n",
       "      <td>ጆሽ አንድን ቤት ለመሸጥ ወሰነ። በ80,000 ዶላር ቤት ገዝቶ በ50,00...</td>\n",
       "      <td>The cost of the house and repairs came out to ...</td>\n",
       "      <td>የቤቱ እና የጥገናው ወጪ 80,000+50,000=$&lt;&lt;80000+50000=1...</td>\n",
       "    </tr>\n",
       "    <tr>\n",
       "      <th>3</th>\n",
       "      <td>James decides to run 3 sprints 3 times a week....</td>\n",
       "      <td>ጄምስ በሳምንት 3 ጊዜ 3 ስፕሪንቶችን ለመሮጥ ወሰነ። በእያንዳንዱ ስፕሪ...</td>\n",
       "      <td>He sprints 3*3=&lt;&lt;3*3=9&gt;&gt;9 times\\nSo he runs 9*...</td>\n",
       "      <td>እሱ ይሮጣል 3*3=&lt;&lt;3*3=9&gt;&gt;9 ጊዜ ስለዚህ ይሮጣል 9*60=&lt;&lt;9*6...</td>\n",
       "    </tr>\n",
       "    <tr>\n",
       "      <th>4</th>\n",
       "      <td>Every day, Wendi feeds each of her chickens th...</td>\n",
       "      <td>ዌንዲ በየቀኑ ለእያንዳንዱ ዶሮዋ ሶስት ኩባያ ድብልቅ የዶሮ ምግብ ትመግባ...</td>\n",
       "      <td>If each chicken eats 3 cups of feed per day, t...</td>\n",
       "      <td>እያንዳንዱ ዶሮ በቀን 3 ኩባያ ምግብ ቢበላ ለ20 ዶሮዎች በቀን 3*20=...</td>\n",
       "    </tr>\n",
       "  </tbody>\n",
       "</table>\n",
       "</div>"
      ],
      "text/plain": [
       "                                            question  \\\n",
       "0  Janet’s ducks lay 16 eggs per day. She eats th...   \n",
       "1  A robe takes 2 bolts of blue fiber and half th...   \n",
       "2  Josh decides to try flipping a house.  He buys...   \n",
       "3  James decides to run 3 sprints 3 times a week....   \n",
       "4  Every day, Wendi feeds each of her chickens th...   \n",
       "\n",
       "                                         am_question  \\\n",
       "0  የጃኔት ዳክዬዎች በቀን 16 እንቁላል ይጥላሉ። በየቀኑ ጠዋት ላይ ሦስት ...   \n",
       "1  አንድ ቀሚስ 2 ቦልቶች ሰማያዊ ፋይበር እና ግማሹን ነጭ ፋይበር ይወስዳል...   \n",
       "2  ጆሽ አንድን ቤት ለመሸጥ ወሰነ። በ80,000 ዶላር ቤት ገዝቶ በ50,00...   \n",
       "3  ጄምስ በሳምንት 3 ጊዜ 3 ስፕሪንቶችን ለመሮጥ ወሰነ። በእያንዳንዱ ስፕሪ...   \n",
       "4  ዌንዲ በየቀኑ ለእያንዳንዱ ዶሮዋ ሶስት ኩባያ ድብልቅ የዶሮ ምግብ ትመግባ...   \n",
       "\n",
       "                                              answer  \\\n",
       "0  Janet sells 16 - 3 - 4 = <<16-3-4=9>>9 duck eg...   \n",
       "1  It takes 2/2=<<2/2=1>>1 bolt of white fiber\\nS...   \n",
       "2  The cost of the house and repairs came out to ...   \n",
       "3  He sprints 3*3=<<3*3=9>>9 times\\nSo he runs 9*...   \n",
       "4  If each chicken eats 3 cups of feed per day, t...   \n",
       "\n",
       "                                           am_answer  \n",
       "0  ጃኔት 16 - 3 - 4 = <<16-3-4=9>> 9 ዳክዬ እንቁላሎችን በቀ...  \n",
       "1  2/2=<<2/2=1>>1 ቦልት ነጭ ፋይበር ይወስዳል ስለዚህ አጠቃላይ የጨ...  \n",
       "2  የቤቱ እና የጥገናው ወጪ 80,000+50,000=$<<80000+50000=1...  \n",
       "3  እሱ ይሮጣል 3*3=<<3*3=9>>9 ጊዜ ስለዚህ ይሮጣል 9*60=<<9*6...  \n",
       "4  እያንዳንዱ ዶሮ በቀን 3 ኩባያ ምግብ ቢበላ ለ20 ዶሮዎች በቀን 3*20=...  "
      ]
     },
     "execution_count": 33,
     "metadata": {},
     "output_type": "execute_result"
    }
   ],
   "source": [
    "df3S.head()"
   ]
  },
  {
   "cell_type": "code",
   "execution_count": null,
   "metadata": {},
   "outputs": [],
   "source": []
  },
  {
   "cell_type": "markdown",
   "metadata": {},
   "source": [
    "# Dataset 4"
   ]
  },
  {
   "cell_type": "code",
   "execution_count": 34,
   "metadata": {},
   "outputs": [
    {
     "name": "stderr",
     "output_type": "stream",
     "text": [
      "Downloading readme: 100%|██████████| 672/672 [00:00<00:00, 1.23MB/s]\n",
      "Downloading data: 100%|██████████| 22.5M/22.5M [00:03<00:00, 6.12MB/s]\n",
      "Downloading data: 100%|██████████| 423k/423k [00:00<00:00, 579kB/s]\n",
      "Downloading data: 100%|██████████| 443k/443k [00:01<00:00, 428kB/s]\n",
      "Generating train split: 100%|██████████| 200000/200000 [00:00<00:00, 622078.79 examples/s]\n",
      "Generating validation split: 100%|██████████| 1994/1994 [00:00<00:00, 281020.20 examples/s]\n",
      "Generating test split: 100%|██████████| 2024/2024 [00:00<00:00, 264035.56 examples/s]\n"
     ]
    }
   ],
   "source": [
    "dataset = load_dataset(\"EthioNLP/Amharic_LLAMA_MT\")"
   ]
  },
  {
   "cell_type": "code",
   "execution_count": 35,
   "metadata": {},
   "outputs": [
    {
     "name": "stderr",
     "output_type": "stream",
     "text": [
      "Saving the dataset (1/1 shards): 100%|██████████| 200000/200000 [00:00<00:00, 822898.22 examples/s]\n",
      "Saving the dataset (1/1 shards): 100%|██████████| 1994/1994 [00:00<00:00, 358576.67 examples/s]\n",
      "Saving the dataset (1/1 shards): 100%|██████████| 2024/2024 [00:00<00:00, 298130.69 examples/s]\n"
     ]
    }
   ],
   "source": [
    "dataset.save_to_disk(\"EthioNLP/Amharic_LLAMA_MT\")"
   ]
  },
  {
   "cell_type": "code",
   "execution_count": 36,
   "metadata": {},
   "outputs": [
    {
     "name": "stderr",
     "output_type": "stream",
     "text": [
      "Creating CSV from Arrow format: 100%|██████████| 200/200 [00:02<00:00, 94.32ba/s] \n",
      "Creating CSV from Arrow format: 100%|██████████| 3/3 [00:00<00:00, 104.21ba/s]\n",
      "Creating CSV from Arrow format: 100%|██████████| 2/2 [00:00<00:00, 73.37ba/s]\n"
     ]
    },
    {
     "data": {
      "text/plain": [
       "1187268"
      ]
     },
     "execution_count": 36,
     "metadata": {},
     "output_type": "execute_result"
    }
   ],
   "source": [
    "dataset['train'].to_csv(\"data/EthioNLP/Amharic_LLAMA_MT_train.csv\")\n",
    "dataset['test'].to_csv(\"data/EthioNLP/Amharic_LLAMA_MTa_test.csv\")\n",
    "dataset['validation'].to_csv(\"data/EthioNLP/Amharic_LLAMA_MT_validation.csv\")"
   ]
  },
  {
   "cell_type": "code",
   "execution_count": 38,
   "metadata": {},
   "outputs": [],
   "source": [
    "df4R = pd.read_csv(\"/home/moraa/Documents/10_academy/Week6/Notebooks/data/EthioNLP/Amharic_LLAMA_MT_train.csv\")"
   ]
  },
  {
   "cell_type": "code",
   "execution_count": 39,
   "metadata": {},
   "outputs": [
    {
     "data": {
      "text/html": [
       "<div>\n",
       "<style scoped>\n",
       "    .dataframe tbody tr th:only-of-type {\n",
       "        vertical-align: middle;\n",
       "    }\n",
       "\n",
       "    .dataframe tbody tr th {\n",
       "        vertical-align: top;\n",
       "    }\n",
       "\n",
       "    .dataframe thead th {\n",
       "        text-align: right;\n",
       "    }\n",
       "</style>\n",
       "<table border=\"1\" class=\"dataframe\">\n",
       "  <thead>\n",
       "    <tr style=\"text-align: right;\">\n",
       "      <th></th>\n",
       "      <th>instruction</th>\n",
       "      <th>input</th>\n",
       "      <th>output</th>\n",
       "      <th>prompt_header</th>\n",
       "      <th>datasource</th>\n",
       "    </tr>\n",
       "  </thead>\n",
       "  <tbody>\n",
       "    <tr>\n",
       "      <th>0</th>\n",
       "      <td>ለተሰጠው አማርኛ  አረፍተ ነገር ተቀራራቢ    አረፍተ ነገር ፃፍ</td>\n",
       "      <td>ሕይወትና ጊዜ በጥብቅ የተቆራኙ ናቸው።</td>\n",
       "      <td>\"Time and death are intimately linked.</td>\n",
       "      <td>Below is an instruction that describes a task,...</td>\n",
       "      <td>amharic_mt amh-eng</td>\n",
       "    </tr>\n",
       "    <tr>\n",
       "      <th>1</th>\n",
       "      <td>ለተሰጠው አማርኛ  አረፍተ ነገር ተቀራራቢ    አረፍተ ነገር ፃፍ</td>\n",
       "      <td>አይሁዳውያን ጲላጦስ ፊት ቀርበው የኢየሱስና አጠገቡ ያሉት የሁለቱ ዘራፊዎ...</td>\n",
       "      <td>Question 8 The Roman soldiers broke the legs o...</td>\n",
       "      <td>Below is an instruction that describes a task,...</td>\n",
       "      <td>amharic_mt amh-eng</td>\n",
       "    </tr>\n",
       "    <tr>\n",
       "      <th>2</th>\n",
       "      <td>ተቅራራቢ  English  ፃፍ</td>\n",
       "      <td>ደስታው መለኪያ የለውም።</td>\n",
       "      <td>The joy of Being has no object of happiness.</td>\n",
       "      <td>Below is an instruction that describes a task,...</td>\n",
       "      <td>amharic_mt amh-eng</td>\n",
       "    </tr>\n",
       "    <tr>\n",
       "      <th>3</th>\n",
       "      <td>የተሰጠውን የአማርኛ አረፍተ ነገር ወደ English ተርጉም</td>\n",
       "      <td>የዲሞክራሲ ጥሩም ይሁን መጥፎ ገጽታው ይህ ነው።</td>\n",
       "      <td>That is what democracy is all about, for good ...</td>\n",
       "      <td>Below is an instruction that describes a task,...</td>\n",
       "      <td>amharic_mt amh-eng</td>\n",
       "    </tr>\n",
       "    <tr>\n",
       "      <th>4</th>\n",
       "      <td>ተቅራራቢ  English  ፃፍ</td>\n",
       "      <td>\" ነብዩ ለሷ የነበራቸው ፍቅር ከአካላዊ ውበቷ ጋር የተሳሳረም አይደለም።</td>\n",
       "      <td>Uncle's love for her wasn't mixed with selfish...</td>\n",
       "      <td>Below is an instruction that describes a task,...</td>\n",
       "      <td>amharic_mt amh-eng</td>\n",
       "    </tr>\n",
       "  </tbody>\n",
       "</table>\n",
       "</div>"
      ],
      "text/plain": [
       "                                 instruction  \\\n",
       "0  ለተሰጠው አማርኛ  አረፍተ ነገር ተቀራራቢ    አረፍተ ነገር ፃፍ   \n",
       "1  ለተሰጠው አማርኛ  አረፍተ ነገር ተቀራራቢ    አረፍተ ነገር ፃፍ   \n",
       "2                         ተቅራራቢ  English  ፃፍ   \n",
       "3      የተሰጠውን የአማርኛ አረፍተ ነገር ወደ English ተርጉም   \n",
       "4                         ተቅራራቢ  English  ፃፍ   \n",
       "\n",
       "                                               input  \\\n",
       "0                           ሕይወትና ጊዜ በጥብቅ የተቆራኙ ናቸው።   \n",
       "1  አይሁዳውያን ጲላጦስ ፊት ቀርበው የኢየሱስና አጠገቡ ያሉት የሁለቱ ዘራፊዎ...   \n",
       "2                                    ደስታው መለኪያ የለውም።   \n",
       "3                     የዲሞክራሲ ጥሩም ይሁን መጥፎ ገጽታው ይህ ነው።   \n",
       "4     \" ነብዩ ለሷ የነበራቸው ፍቅር ከአካላዊ ውበቷ ጋር የተሳሳረም አይደለም።   \n",
       "\n",
       "                                              output  \\\n",
       "0             \"Time and death are intimately linked.   \n",
       "1  Question 8 The Roman soldiers broke the legs o...   \n",
       "2       The joy of Being has no object of happiness.   \n",
       "3  That is what democracy is all about, for good ...   \n",
       "4  Uncle's love for her wasn't mixed with selfish...   \n",
       "\n",
       "                                       prompt_header          datasource  \n",
       "0  Below is an instruction that describes a task,...  amharic_mt amh-eng  \n",
       "1  Below is an instruction that describes a task,...  amharic_mt amh-eng  \n",
       "2  Below is an instruction that describes a task,...  amharic_mt amh-eng  \n",
       "3  Below is an instruction that describes a task,...  amharic_mt amh-eng  \n",
       "4  Below is an instruction that describes a task,...  amharic_mt amh-eng  "
      ]
     },
     "execution_count": 39,
     "metadata": {},
     "output_type": "execute_result"
    }
   ],
   "source": [
    "df4R.head()"
   ]
  },
  {
   "cell_type": "code",
   "execution_count": 40,
   "metadata": {},
   "outputs": [],
   "source": [
    "df4S = pd.read_csv(\"/home/moraa/Documents/10_academy/Week6/Notebooks/data/EthioNLP/Amharic_LLAMA_MTa_test.csv\")"
   ]
  },
  {
   "cell_type": "code",
   "execution_count": 41,
   "metadata": {},
   "outputs": [
    {
     "data": {
      "text/html": [
       "<div>\n",
       "<style scoped>\n",
       "    .dataframe tbody tr th:only-of-type {\n",
       "        vertical-align: middle;\n",
       "    }\n",
       "\n",
       "    .dataframe tbody tr th {\n",
       "        vertical-align: top;\n",
       "    }\n",
       "\n",
       "    .dataframe thead th {\n",
       "        text-align: right;\n",
       "    }\n",
       "</style>\n",
       "<table border=\"1\" class=\"dataframe\">\n",
       "  <thead>\n",
       "    <tr style=\"text-align: right;\">\n",
       "      <th></th>\n",
       "      <th>instruction</th>\n",
       "      <th>input</th>\n",
       "      <th>output</th>\n",
       "      <th>prompt_header</th>\n",
       "      <th>datasource</th>\n",
       "    </tr>\n",
       "  </thead>\n",
       "  <tbody>\n",
       "    <tr>\n",
       "      <th>0</th>\n",
       "      <td>የተሰጠውን ጽሁፍ  ከ አማርኛ ቋንቋ ወደ English ቋንቋ ተርጉም።</td>\n",
       "      <td>\"አሁን የስኳር በሽተኛ ያልነበሩ አሁን ግን የሆኑ የ4-ወር-ዕድሜ ያላቸው...</td>\n",
       "      <td>\"We now have 4-month-old mice that are non-dia...</td>\n",
       "      <td>Below is an instruction that describes a task,...</td>\n",
       "      <td>amharic_mt amh-eng</td>\n",
       "    </tr>\n",
       "    <tr>\n",
       "      <th>1</th>\n",
       "      <td>የተሰጠውን ጽሁፍ  ከ አማርኛ ቋንቋ ወደ English ቋንቋ ተርጉም።</td>\n",
       "      <td>ዶክተር ኢሁድ ኡር፣ በሃሊፉሽ፣ ኖቫስኮሽያ ውስጥ በሚገኘው በዳልሃውዚ ዩኒ...</td>\n",
       "      <td>Dr. Ehud Ur, professor of medicine at Dalhousi...</td>\n",
       "      <td>Below is an instruction that describes a task,...</td>\n",
       "      <td>amharic_mt amh-eng</td>\n",
       "    </tr>\n",
       "    <tr>\n",
       "      <th>2</th>\n",
       "      <td>የተሰጠውን ጽሁፍ  ከ አማርኛ ቋንቋ ወደ English ቋንቋ ተርጉም።</td>\n",
       "      <td>ልክ እንደ ሌሎች ባለሙያዎች፣ አይነት 1 የስኳር በሽታ ላለባቸው ሰዎች እ...</td>\n",
       "      <td>Like some other experts, he is skeptical about...</td>\n",
       "      <td>Below is an instruction that describes a task,...</td>\n",
       "      <td>amharic_mt amh-eng</td>\n",
       "    </tr>\n",
       "    <tr>\n",
       "      <th>3</th>\n",
       "      <td>የተሰጠውን ጽሁፍ  ከ አማርኛ ቋንቋ ወደ English ቋንቋ ተርጉም።</td>\n",
       "      <td>ሰኞ ዕለት፣ ሳራ ዳኒየስ፣ ለኖቤል ኮሚቴ ለስነ ጽሁፍ በስዊድናዊ አካዳሚ ...</td>\n",
       "      <td>On Monday, Sara Danius, permanent secretary of...</td>\n",
       "      <td>Below is an instruction that describes a task,...</td>\n",
       "      <td>amharic_mt amh-eng</td>\n",
       "    </tr>\n",
       "    <tr>\n",
       "      <th>4</th>\n",
       "      <td>የተሰጠውን ጽሁፍ  ከ አማርኛ ቋንቋ ወደ English ቋንቋ ተርጉም።</td>\n",
       "      <td>“አሁን ምንም እያደግን አይደለም። ለቅርብ ተባባሪው ደውያለሁ አና ኢሜይል...</td>\n",
       "      <td>Danius said, \"Right now we are doing nothing. ...</td>\n",
       "      <td>Below is an instruction that describes a task,...</td>\n",
       "      <td>amharic_mt amh-eng</td>\n",
       "    </tr>\n",
       "  </tbody>\n",
       "</table>\n",
       "</div>"
      ],
      "text/plain": [
       "                                   instruction  \\\n",
       "0  የተሰጠውን ጽሁፍ  ከ አማርኛ ቋንቋ ወደ English ቋንቋ ተርጉም።   \n",
       "1  የተሰጠውን ጽሁፍ  ከ አማርኛ ቋንቋ ወደ English ቋንቋ ተርጉም።   \n",
       "2  የተሰጠውን ጽሁፍ  ከ አማርኛ ቋንቋ ወደ English ቋንቋ ተርጉም።   \n",
       "3  የተሰጠውን ጽሁፍ  ከ አማርኛ ቋንቋ ወደ English ቋንቋ ተርጉም።   \n",
       "4  የተሰጠውን ጽሁፍ  ከ አማርኛ ቋንቋ ወደ English ቋንቋ ተርጉም።   \n",
       "\n",
       "                                               input  \\\n",
       "0  \"አሁን የስኳር በሽተኛ ያልነበሩ አሁን ግን የሆኑ የ4-ወር-ዕድሜ ያላቸው...   \n",
       "1  ዶክተር ኢሁድ ኡር፣ በሃሊፉሽ፣ ኖቫስኮሽያ ውስጥ በሚገኘው በዳልሃውዚ ዩኒ...   \n",
       "2  ልክ እንደ ሌሎች ባለሙያዎች፣ አይነት 1 የስኳር በሽታ ላለባቸው ሰዎች እ...   \n",
       "3  ሰኞ ዕለት፣ ሳራ ዳኒየስ፣ ለኖቤል ኮሚቴ ለስነ ጽሁፍ በስዊድናዊ አካዳሚ ...   \n",
       "4  “አሁን ምንም እያደግን አይደለም። ለቅርብ ተባባሪው ደውያለሁ አና ኢሜይል...   \n",
       "\n",
       "                                              output  \\\n",
       "0  \"We now have 4-month-old mice that are non-dia...   \n",
       "1  Dr. Ehud Ur, professor of medicine at Dalhousi...   \n",
       "2  Like some other experts, he is skeptical about...   \n",
       "3  On Monday, Sara Danius, permanent secretary of...   \n",
       "4  Danius said, \"Right now we are doing nothing. ...   \n",
       "\n",
       "                                       prompt_header          datasource  \n",
       "0  Below is an instruction that describes a task,...  amharic_mt amh-eng  \n",
       "1  Below is an instruction that describes a task,...  amharic_mt amh-eng  \n",
       "2  Below is an instruction that describes a task,...  amharic_mt amh-eng  \n",
       "3  Below is an instruction that describes a task,...  amharic_mt amh-eng  \n",
       "4  Below is an instruction that describes a task,...  amharic_mt amh-eng  "
      ]
     },
     "execution_count": 41,
     "metadata": {},
     "output_type": "execute_result"
    }
   ],
   "source": [
    "df4S.head()"
   ]
  },
  {
   "cell_type": "code",
   "execution_count": 42,
   "metadata": {},
   "outputs": [],
   "source": [
    "df4V = pd.read_csv(\"/home/moraa/Documents/10_academy/Week6/Notebooks/data/EthioNLP/Amharic_LLAMA_MT_validation.csv\")"
   ]
  },
  {
   "cell_type": "code",
   "execution_count": 43,
   "metadata": {},
   "outputs": [
    {
     "data": {
      "text/html": [
       "<div>\n",
       "<style scoped>\n",
       "    .dataframe tbody tr th:only-of-type {\n",
       "        vertical-align: middle;\n",
       "    }\n",
       "\n",
       "    .dataframe tbody tr th {\n",
       "        vertical-align: top;\n",
       "    }\n",
       "\n",
       "    .dataframe thead th {\n",
       "        text-align: right;\n",
       "    }\n",
       "</style>\n",
       "<table border=\"1\" class=\"dataframe\">\n",
       "  <thead>\n",
       "    <tr style=\"text-align: right;\">\n",
       "      <th></th>\n",
       "      <th>instruction</th>\n",
       "      <th>input</th>\n",
       "      <th>output</th>\n",
       "      <th>prompt_header</th>\n",
       "      <th>datasource</th>\n",
       "    </tr>\n",
       "  </thead>\n",
       "  <tbody>\n",
       "    <tr>\n",
       "      <th>0</th>\n",
       "      <td>ይህንን የአማርኛ ቋንቋ ጽሑፍ በ English ምን ማለት ነው?</td>\n",
       "      <td>ሰኞ እለት፣ በስታንፎርድ ዩኒቨርሲቲ የህክምና ትምህርት ቤት ህዋሶችን በአ...</td>\n",
       "      <td>On Monday, scientists from the Stanford Univer...</td>\n",
       "      <td>Below is an instruction that describes a task,...</td>\n",
       "      <td>amharic_mt</td>\n",
       "    </tr>\n",
       "    <tr>\n",
       "      <th>1</th>\n",
       "      <td>የተሰጠውን የአማርኛ አረፍተ ነገር ወደ English ተርጉም</td>\n",
       "      <td>መሪ ተመራማሪዎች እንደ ጡት ካንሰር ላሉ በሽታዎች የመትረፍ መጠን ከሀብታ...</td>\n",
       "      <td>Lead researchers say this may bring early dete...</td>\n",
       "      <td>Below is an instruction that describes a task,...</td>\n",
       "      <td>amharic_mt</td>\n",
       "    </tr>\n",
       "    <tr>\n",
       "      <th>2</th>\n",
       "      <td>ይህ ጽሁፍ በአማርኛ ቋንቋ ነው የተጻፈ ወደ English ቋንቋ ተርጉም</td>\n",
       "      <td>JAS 39C Gripen በማኮብኮብያ ሜዳ ላይ በ9፡30 am አካባቢያዊ ሰ...</td>\n",
       "      <td>The JAS 39C Gripen crashed onto a runway at ar...</td>\n",
       "      <td>Below is an instruction that describes a task,...</td>\n",
       "      <td>amharic_mt</td>\n",
       "    </tr>\n",
       "    <tr>\n",
       "      <th>3</th>\n",
       "      <td>ይህንን የአማርኛ ቋንቋ ጽሑፍ በ English ምን ማለት ነው?</td>\n",
       "      <td>የአውሮፕላን አብራሪው የአየር ሀይል መሪ ዲሎክሪት ፓታቪ ሆኖ ተለይቷል።</td>\n",
       "      <td>The pilot was identified as Squadron Leader Di...</td>\n",
       "      <td>Below is an instruction that describes a task,...</td>\n",
       "      <td>amharic_mt</td>\n",
       "    </tr>\n",
       "    <tr>\n",
       "      <th>4</th>\n",
       "      <td>ከ አማርኛ ወደ English ተርጉም</td>\n",
       "      <td>የአካባቢው መገናኛ ብዙሐን እንደዘገበው አንድ የአየር ማረፊያ የእሳት አደ...</td>\n",
       "      <td>Local media reports an airport fire vehicle ro...</td>\n",
       "      <td>Below is an instruction that describes a task,...</td>\n",
       "      <td>amharic_mt</td>\n",
       "    </tr>\n",
       "  </tbody>\n",
       "</table>\n",
       "</div>"
      ],
      "text/plain": [
       "                                    instruction  \\\n",
       "0       ይህንን የአማርኛ ቋንቋ ጽሑፍ በ English ምን ማለት ነው?   \n",
       "1         የተሰጠውን የአማርኛ አረፍተ ነገር ወደ English ተርጉም   \n",
       "2  ይህ ጽሁፍ በአማርኛ ቋንቋ ነው የተጻፈ ወደ English ቋንቋ ተርጉም   \n",
       "3       ይህንን የአማርኛ ቋንቋ ጽሑፍ በ English ምን ማለት ነው?   \n",
       "4                        ከ አማርኛ ወደ English ተርጉም   \n",
       "\n",
       "                                               input  \\\n",
       "0  ሰኞ እለት፣ በስታንፎርድ ዩኒቨርሲቲ የህክምና ትምህርት ቤት ህዋሶችን በአ...   \n",
       "1  መሪ ተመራማሪዎች እንደ ጡት ካንሰር ላሉ በሽታዎች የመትረፍ መጠን ከሀብታ...   \n",
       "2  JAS 39C Gripen በማኮብኮብያ ሜዳ ላይ በ9፡30 am አካባቢያዊ ሰ...   \n",
       "3      የአውሮፕላን አብራሪው የአየር ሀይል መሪ ዲሎክሪት ፓታቪ ሆኖ ተለይቷል።   \n",
       "4  የአካባቢው መገናኛ ብዙሐን እንደዘገበው አንድ የአየር ማረፊያ የእሳት አደ...   \n",
       "\n",
       "                                              output  \\\n",
       "0  On Monday, scientists from the Stanford Univer...   \n",
       "1  Lead researchers say this may bring early dete...   \n",
       "2  The JAS 39C Gripen crashed onto a runway at ar...   \n",
       "3  The pilot was identified as Squadron Leader Di...   \n",
       "4  Local media reports an airport fire vehicle ro...   \n",
       "\n",
       "                                       prompt_header  datasource  \n",
       "0  Below is an instruction that describes a task,...  amharic_mt  \n",
       "1  Below is an instruction that describes a task,...  amharic_mt  \n",
       "2  Below is an instruction that describes a task,...  amharic_mt  \n",
       "3  Below is an instruction that describes a task,...  amharic_mt  \n",
       "4  Below is an instruction that describes a task,...  amharic_mt  "
      ]
     },
     "execution_count": 43,
     "metadata": {},
     "output_type": "execute_result"
    }
   ],
   "source": [
    "df4V.head()"
   ]
  },
  {
   "cell_type": "markdown",
   "metadata": {},
   "source": [
    "# Dataset 5"
   ]
  },
  {
   "cell_type": "code",
   "execution_count": 44,
   "metadata": {},
   "outputs": [
    {
     "name": "stderr",
     "output_type": "stream",
     "text": [
      "Downloading readme: 100%|██████████| 673/673 [00:00<00:00, 4.52MB/s]\n",
      "Downloading data: 100%|██████████| 167M/167M [00:16<00:00, 10.3MB/s] \n",
      "Downloading data: 100%|██████████| 16.9M/16.9M [00:02<00:00, 7.28MB/s]\n",
      "Downloading data: 100%|██████████| 20.1M/20.1M [00:02<00:00, 7.66MB/s]\n",
      "Generating train split: 100%|██████████| 122425/122425 [00:01<00:00, 94076.86 examples/s] \n",
      "Generating validation split: 100%|██████████| 16311/16311 [00:00<00:00, 118730.61 examples/s]\n",
      "Generating test split: 100%|██████████| 15261/15261 [00:00<00:00, 86075.39 examples/s]\n"
     ]
    }
   ],
   "source": [
    "dataset = load_dataset(\"EthioNLP/Amharic_Instruction_dataset\")"
   ]
  },
  {
   "cell_type": "code",
   "execution_count": 45,
   "metadata": {},
   "outputs": [
    {
     "name": "stderr",
     "output_type": "stream",
     "text": [
      "Saving the dataset (1/1 shards): 100%|██████████| 122425/122425 [00:00<00:00, 248600.79 examples/s]\n",
      "Saving the dataset (1/1 shards): 100%|██████████| 16311/16311 [00:00<00:00, 280473.16 examples/s]\n",
      "Saving the dataset (1/1 shards): 100%|██████████| 15261/15261 [00:00<00:00, 225286.40 examples/s]\n"
     ]
    }
   ],
   "source": [
    "dataset.save_to_disk(\"EthioNLP/Amharic_Instruction_dataset\")"
   ]
  },
  {
   "cell_type": "code",
   "execution_count": 46,
   "metadata": {},
   "outputs": [
    {
     "name": "stderr",
     "output_type": "stream",
     "text": [
      "Creating CSV from Arrow format: 100%|██████████| 123/123 [00:05<00:00, 21.38ba/s]\n",
      "Creating CSV from Arrow format: 100%|██████████| 16/16 [00:00<00:00, 22.38ba/s]\n",
      "Creating CSV from Arrow format: 100%|██████████| 17/17 [00:00<00:00, 26.69ba/s]\n"
     ]
    },
    {
     "data": {
      "text/plain": [
       "46897890"
      ]
     },
     "execution_count": 46,
     "metadata": {},
     "output_type": "execute_result"
    }
   ],
   "source": [
    "dataset['train'].to_csv(\"data/EthioNLP/Amharic_Instruction_dataset_train.csv\")\n",
    "dataset['test'].to_csv(\"data/EthioNLP/Amharic_Instruction_dataset_test.csv\")\n",
    "dataset['validation'].to_csv(\"data/EthioNLP/Amharic_Instruction_dataset_validation.csv\")"
   ]
  },
  {
   "cell_type": "code",
   "execution_count": 47,
   "metadata": {},
   "outputs": [],
   "source": [
    "df5R = pd.read_csv(\"/home/moraa/Documents/10_academy/Week6/Notebooks/data/EthioNLP/Amharic_Instruction_dataset_train.csv\")"
   ]
  },
  {
   "cell_type": "code",
   "execution_count": 48,
   "metadata": {},
   "outputs": [
    {
     "data": {
      "text/html": [
       "<div>\n",
       "<style scoped>\n",
       "    .dataframe tbody tr th:only-of-type {\n",
       "        vertical-align: middle;\n",
       "    }\n",
       "\n",
       "    .dataframe tbody tr th {\n",
       "        vertical-align: top;\n",
       "    }\n",
       "\n",
       "    .dataframe thead th {\n",
       "        text-align: right;\n",
       "    }\n",
       "</style>\n",
       "<table border=\"1\" class=\"dataframe\">\n",
       "  <thead>\n",
       "    <tr style=\"text-align: right;\">\n",
       "      <th></th>\n",
       "      <th>instruction</th>\n",
       "      <th>input</th>\n",
       "      <th>output</th>\n",
       "      <th>prompt_header</th>\n",
       "      <th>datasource</th>\n",
       "    </tr>\n",
       "  </thead>\n",
       "  <tbody>\n",
       "    <tr>\n",
       "      <th>0</th>\n",
       "      <td>የተሰጠው ጽሑፍ አስተያየት ምን አይነት ነው? \"አዎንታዊ\"፣ \"አሉታዊ\" ወ...</td>\n",
       "      <td>በሕይወት ሆነን ብንኖር ወይም ብንሞት የጌታ ነን።ስለዚህ ሙታንንም ሕያዋን...</td>\n",
       "      <td>ገለልተኛ</td>\n",
       "      <td>Below is an instruction that describes a task,...</td>\n",
       "      <td>afrisent</td>\n",
       "    </tr>\n",
       "    <tr>\n",
       "      <th>1</th>\n",
       "      <td>የተጠቀሰው አረፍተ ነገር ምን አይነት ስሜት አለው</td>\n",
       "      <td>የቀድሞ የደቡብ ቴሌቪዥን የሥራ ባልደረባዬ ጋዜጠኛ ትዕግስት ገንታ ባደረባ...</td>\n",
       "      <td>አሉታዊ</td>\n",
       "      <td>Below is an instruction that describes a task,...</td>\n",
       "      <td>afrisent</td>\n",
       "    </tr>\n",
       "    <tr>\n",
       "      <th>2</th>\n",
       "      <td>የተጠቀሰው አረፍተ ነገር ያለው አንድምታ አዎንታዊ ነው ዕአሉታዊ</td>\n",
       "      <td>ራሳቸው የሚሠሩት ሕጋዊ ሌላው የሚያደርገው ሕገወጥ ጥር ሁለት ማፍረስ እን...</td>\n",
       "      <td>አሉታዊ</td>\n",
       "      <td>Below is an instruction that describes a task,...</td>\n",
       "      <td>afrisent</td>\n",
       "    </tr>\n",
       "    <tr>\n",
       "      <th>3</th>\n",
       "      <td>በዚህ አረፍተ ነገር የጸሀፊው መልእክት  \"አዎንታዊ\" ወይስ \"አሉታዊ\" ?</td>\n",
       "      <td>የቴፒ ከተማ ሰላምና ፀጥታ ስጋት</td>\n",
       "      <td>አሉታዊ</td>\n",
       "      <td>Below is an instruction that describes a task,...</td>\n",
       "      <td>afrisent</td>\n",
       "    </tr>\n",
       "    <tr>\n",
       "      <th>4</th>\n",
       "      <td>ይህንን ጽሑፍ \"አዎንታዊ\"፣ \"አሉታዊ\" ወይም \"ገለልተኛ\" በማለት መድብ</td>\n",
       "      <td>እስቲ የጠላ አጠማመቅ ቅደም ተከተል ንገሪኝ እላታለሁ</td>\n",
       "      <td>ገለልተኛ</td>\n",
       "      <td>Below is an instruction that describes a task,...</td>\n",
       "      <td>afrisent</td>\n",
       "    </tr>\n",
       "  </tbody>\n",
       "</table>\n",
       "</div>"
      ],
      "text/plain": [
       "                                         instruction  \\\n",
       "0  የተሰጠው ጽሑፍ አስተያየት ምን አይነት ነው? \"አዎንታዊ\"፣ \"አሉታዊ\" ወ...   \n",
       "1                    የተጠቀሰው አረፍተ ነገር ምን አይነት ስሜት አለው   \n",
       "2          የተጠቀሰው አረፍተ ነገር ያለው አንድምታ አዎንታዊ ነው ዕአሉታዊ    \n",
       "3     በዚህ አረፍተ ነገር የጸሀፊው መልእክት  \"አዎንታዊ\" ወይስ \"አሉታዊ\" ?   \n",
       "4      ይህንን ጽሑፍ \"አዎንታዊ\"፣ \"አሉታዊ\" ወይም \"ገለልተኛ\" በማለት መድብ   \n",
       "\n",
       "                                               input output  \\\n",
       "0  በሕይወት ሆነን ብንኖር ወይም ብንሞት የጌታ ነን።ስለዚህ ሙታንንም ሕያዋን...  ገለልተኛ   \n",
       "1  የቀድሞ የደቡብ ቴሌቪዥን የሥራ ባልደረባዬ ጋዜጠኛ ትዕግስት ገንታ ባደረባ...   አሉታዊ   \n",
       "2  ራሳቸው የሚሠሩት ሕጋዊ ሌላው የሚያደርገው ሕገወጥ ጥር ሁለት ማፍረስ እን...   አሉታዊ   \n",
       "3                               የቴፒ ከተማ ሰላምና ፀጥታ ስጋት   አሉታዊ   \n",
       "4                  እስቲ የጠላ አጠማመቅ ቅደም ተከተል ንገሪኝ እላታለሁ  ገለልተኛ   \n",
       "\n",
       "                                       prompt_header datasource  \n",
       "0  Below is an instruction that describes a task,...   afrisent  \n",
       "1  Below is an instruction that describes a task,...   afrisent  \n",
       "2  Below is an instruction that describes a task,...   afrisent  \n",
       "3  Below is an instruction that describes a task,...   afrisent  \n",
       "4  Below is an instruction that describes a task,...   afrisent  "
      ]
     },
     "execution_count": 48,
     "metadata": {},
     "output_type": "execute_result"
    }
   ],
   "source": [
    "df5R.head()"
   ]
  },
  {
   "cell_type": "code",
   "execution_count": 49,
   "metadata": {},
   "outputs": [],
   "source": [
    "df5S = pd.read_csv(\"/home/moraa/Documents/10_academy/Week6/Notebooks/data/EthioNLP/Amharic_Instruction_dataset_test.csv\")"
   ]
  },
  {
   "cell_type": "code",
   "execution_count": 50,
   "metadata": {},
   "outputs": [
    {
     "data": {
      "text/html": [
       "<div>\n",
       "<style scoped>\n",
       "    .dataframe tbody tr th:only-of-type {\n",
       "        vertical-align: middle;\n",
       "    }\n",
       "\n",
       "    .dataframe tbody tr th {\n",
       "        vertical-align: top;\n",
       "    }\n",
       "\n",
       "    .dataframe thead th {\n",
       "        text-align: right;\n",
       "    }\n",
       "</style>\n",
       "<table border=\"1\" class=\"dataframe\">\n",
       "  <thead>\n",
       "    <tr style=\"text-align: right;\">\n",
       "      <th></th>\n",
       "      <th>instruction</th>\n",
       "      <th>input</th>\n",
       "      <th>output</th>\n",
       "      <th>prompt_header</th>\n",
       "      <th>datasource</th>\n",
       "    </tr>\n",
       "  </thead>\n",
       "  <tbody>\n",
       "    <tr>\n",
       "      <th>0</th>\n",
       "      <td>የተሰጠው ጽሑፍ አስተያየት ምን አይነት ነው? \"አዎንታዊ\"፣ \"አሉታዊ\" ወ...</td>\n",
       "      <td>'@user ክብር እና ምስጋና ለዓለማት ፈጣሪ ይሁን'</td>\n",
       "      <td>አዎንታዊ</td>\n",
       "      <td>Below is an instruction that describes a task,...</td>\n",
       "      <td>afrisent</td>\n",
       "    </tr>\n",
       "    <tr>\n",
       "      <th>1</th>\n",
       "      <td>የተሰጠው ጽሑፍ አስተያየት ምን አይነት ነው? \"አዎንታዊ\"፣ \"አሉታዊ\" ወ...</td>\n",
       "      <td>'ከህወሓት ጋር ድርድር ማለት ኢትዮጲያን ማፍረስ ዕቁብ መጣል ነው። #No...</td>\n",
       "      <td>አሉታዊ</td>\n",
       "      <td>Below is an instruction that describes a task,...</td>\n",
       "      <td>afrisent</td>\n",
       "    </tr>\n",
       "    <tr>\n",
       "      <th>2</th>\n",
       "      <td>የተሰጠው ጽሑፍ አስተያየት ምን አይነት ነው? \"አዎንታዊ\"፣ \"አሉታዊ\" ወ...</td>\n",
       "      <td>'እግዚአብሔር የተመሰገነ ይሁን ኢትዮጵያ አሸነፈች ። እንኳን ደስአለኝ ።'</td>\n",
       "      <td>አዎንታዊ</td>\n",
       "      <td>Below is an instruction that describes a task,...</td>\n",
       "      <td>afrisent</td>\n",
       "    </tr>\n",
       "    <tr>\n",
       "      <th>3</th>\n",
       "      <td>የተሰጠው ጽሑፍ አስተያየት ምን አይነት ነው? \"አዎንታዊ\"፣ \"አሉታዊ\" ወ...</td>\n",
       "      <td>'ይህንን ካዩ እባክዎን ከእኔ ጋር ሶስት ያድርጉ'</td>\n",
       "      <td>ገለልተኛ</td>\n",
       "      <td>Below is an instruction that describes a task,...</td>\n",
       "      <td>afrisent</td>\n",
       "    </tr>\n",
       "    <tr>\n",
       "      <th>4</th>\n",
       "      <td>የተሰጠው ጽሑፍ አስተያየት ምን አይነት ነው? \"አዎንታዊ\"፣ \"አሉታዊ\" ወ...</td>\n",
       "      <td>'@user ሲሆን ሲሆን ወንድ ትወልጅያለሽ ሳይሆ ሳይሆን ሴት ትወልጃለሽ ...</td>\n",
       "      <td>አሉታዊ</td>\n",
       "      <td>Below is an instruction that describes a task,...</td>\n",
       "      <td>afrisent</td>\n",
       "    </tr>\n",
       "  </tbody>\n",
       "</table>\n",
       "</div>"
      ],
      "text/plain": [
       "                                         instruction  \\\n",
       "0  የተሰጠው ጽሑፍ አስተያየት ምን አይነት ነው? \"አዎንታዊ\"፣ \"አሉታዊ\" ወ...   \n",
       "1  የተሰጠው ጽሑፍ አስተያየት ምን አይነት ነው? \"አዎንታዊ\"፣ \"አሉታዊ\" ወ...   \n",
       "2  የተሰጠው ጽሑፍ አስተያየት ምን አይነት ነው? \"አዎንታዊ\"፣ \"አሉታዊ\" ወ...   \n",
       "3  የተሰጠው ጽሑፍ አስተያየት ምን አይነት ነው? \"አዎንታዊ\"፣ \"አሉታዊ\" ወ...   \n",
       "4  የተሰጠው ጽሑፍ አስተያየት ምን አይነት ነው? \"አዎንታዊ\"፣ \"አሉታዊ\" ወ...   \n",
       "\n",
       "                                               input output  \\\n",
       "0                  '@user ክብር እና ምስጋና ለዓለማት ፈጣሪ ይሁን'  አዎንታዊ   \n",
       "1  'ከህወሓት ጋር ድርድር ማለት ኢትዮጲያን ማፍረስ ዕቁብ መጣል ነው። #No...   አሉታዊ   \n",
       "2    'እግዚአብሔር የተመሰገነ ይሁን ኢትዮጵያ አሸነፈች ። እንኳን ደስአለኝ ።'  አዎንታዊ   \n",
       "3                    'ይህንን ካዩ እባክዎን ከእኔ ጋር ሶስት ያድርጉ'  ገለልተኛ   \n",
       "4  '@user ሲሆን ሲሆን ወንድ ትወልጅያለሽ ሳይሆ ሳይሆን ሴት ትወልጃለሽ ...   አሉታዊ   \n",
       "\n",
       "                                       prompt_header datasource  \n",
       "0  Below is an instruction that describes a task,...   afrisent  \n",
       "1  Below is an instruction that describes a task,...   afrisent  \n",
       "2  Below is an instruction that describes a task,...   afrisent  \n",
       "3  Below is an instruction that describes a task,...   afrisent  \n",
       "4  Below is an instruction that describes a task,...   afrisent  "
      ]
     },
     "execution_count": 50,
     "metadata": {},
     "output_type": "execute_result"
    }
   ],
   "source": [
    "df5S.head()"
   ]
  },
  {
   "cell_type": "code",
   "execution_count": 51,
   "metadata": {},
   "outputs": [],
   "source": [
    "df5V = pd.read_csv(\"/home/moraa/Documents/10_academy/Week6/Notebooks/data/EthioNLP/Amharic_Instruction_dataset_validation.csv\")"
   ]
  },
  {
   "cell_type": "code",
   "execution_count": 52,
   "metadata": {},
   "outputs": [
    {
     "data": {
      "text/html": [
       "<div>\n",
       "<style scoped>\n",
       "    .dataframe tbody tr th:only-of-type {\n",
       "        vertical-align: middle;\n",
       "    }\n",
       "\n",
       "    .dataframe tbody tr th {\n",
       "        vertical-align: top;\n",
       "    }\n",
       "\n",
       "    .dataframe thead th {\n",
       "        text-align: right;\n",
       "    }\n",
       "</style>\n",
       "<table border=\"1\" class=\"dataframe\">\n",
       "  <thead>\n",
       "    <tr style=\"text-align: right;\">\n",
       "      <th></th>\n",
       "      <th>instruction</th>\n",
       "      <th>input</th>\n",
       "      <th>output</th>\n",
       "      <th>prompt_header</th>\n",
       "      <th>datasource</th>\n",
       "    </tr>\n",
       "  </thead>\n",
       "  <tbody>\n",
       "    <tr>\n",
       "      <th>0</th>\n",
       "      <td>የተሰጠው ጽሑፍ አስተያየት ምን አይነት ነው? \"አዎንታዊ\"፣ \"አሉታዊ\" ወ...</td>\n",
       "      <td>The only part I like......ትልልቅ የነዳጅ ፍጆታ ያላቸው ተ...</td>\n",
       "      <td>ገለልተኛ</td>\n",
       "      <td>Below is an instruction that describes a task,...</td>\n",
       "      <td>afrisent</td>\n",
       "    </tr>\n",
       "    <tr>\n",
       "      <th>1</th>\n",
       "      <td>የተሰጠው ጽሑፍ አስተያየት ምን አይነት ነው? \"አዎንታዊ\"፣ \"አሉታዊ\" ወ...</td>\n",
       "      <td>ኦቦ ቡልቻን ከልብ እንደምወዳቸውና እንደ እንደማከብራቸው እንዲታወቅ ይሁን...</td>\n",
       "      <td>አዎንታዊ</td>\n",
       "      <td>Below is an instruction that describes a task,...</td>\n",
       "      <td>afrisent</td>\n",
       "    </tr>\n",
       "    <tr>\n",
       "      <th>2</th>\n",
       "      <td>የተሰጠው ጽሑፍ አስተያየት ምን አይነት ነው? \"አዎንታዊ\"፣ \"አሉታዊ\" ወ...</td>\n",
       "      <td>40/60 ኮንዶሚኒየም ከሆነ እመልሳለሁ ካልሆነ መልሴን አላባክንም!</td>\n",
       "      <td>ገለልተኛ</td>\n",
       "      <td>Below is an instruction that describes a task,...</td>\n",
       "      <td>afrisent</td>\n",
       "    </tr>\n",
       "    <tr>\n",
       "      <th>3</th>\n",
       "      <td>የተሰጠው ጽሑፍ አስተያየት ምን አይነት ነው? \"አዎንታዊ\"፣ \"አሉታዊ\" ወ...</td>\n",
       "      <td>የሚባክን ጊዜ መኖር የለበትም። ዳይ ወደ ሥራ! ??</td>\n",
       "      <td>ገለልተኛ</td>\n",
       "      <td>Below is an instruction that describes a task,...</td>\n",
       "      <td>afrisent</td>\n",
       "    </tr>\n",
       "    <tr>\n",
       "      <th>4</th>\n",
       "      <td>የተሰጠው ጽሑፍ አስተያየት ምን አይነት ነው? \"አዎንታዊ\"፣ \"አሉታዊ\" ወ...</td>\n",
       "      <td>የጎንደር ዩኒቨርሲቲ በ65 ተማሪዎች፣መምህራንና የአስተዳደር ሰራተኞቹ ላይ...</td>\n",
       "      <td>ገለልተኛ</td>\n",
       "      <td>Below is an instruction that describes a task,...</td>\n",
       "      <td>afrisent</td>\n",
       "    </tr>\n",
       "  </tbody>\n",
       "</table>\n",
       "</div>"
      ],
      "text/plain": [
       "                                         instruction  \\\n",
       "0  የተሰጠው ጽሑፍ አስተያየት ምን አይነት ነው? \"አዎንታዊ\"፣ \"አሉታዊ\" ወ...   \n",
       "1  የተሰጠው ጽሑፍ አስተያየት ምን አይነት ነው? \"አዎንታዊ\"፣ \"አሉታዊ\" ወ...   \n",
       "2  የተሰጠው ጽሑፍ አስተያየት ምን አይነት ነው? \"አዎንታዊ\"፣ \"አሉታዊ\" ወ...   \n",
       "3  የተሰጠው ጽሑፍ አስተያየት ምን አይነት ነው? \"አዎንታዊ\"፣ \"አሉታዊ\" ወ...   \n",
       "4  የተሰጠው ጽሑፍ አስተያየት ምን አይነት ነው? \"አዎንታዊ\"፣ \"አሉታዊ\" ወ...   \n",
       "\n",
       "                                               input output  \\\n",
       "0  The only part I like......ትልልቅ የነዳጅ ፍጆታ ያላቸው ተ...  ገለልተኛ   \n",
       "1  ኦቦ ቡልቻን ከልብ እንደምወዳቸውና እንደ እንደማከብራቸው እንዲታወቅ ይሁን...  አዎንታዊ   \n",
       "2         40/60 ኮንዶሚኒየም ከሆነ እመልሳለሁ ካልሆነ መልሴን አላባክንም!  ገለልተኛ   \n",
       "3                   የሚባክን ጊዜ መኖር የለበትም። ዳይ ወደ ሥራ! ??  ገለልተኛ   \n",
       "4  የጎንደር ዩኒቨርሲቲ በ65 ተማሪዎች፣መምህራንና የአስተዳደር ሰራተኞቹ ላይ...  ገለልተኛ   \n",
       "\n",
       "                                       prompt_header datasource  \n",
       "0  Below is an instruction that describes a task,...   afrisent  \n",
       "1  Below is an instruction that describes a task,...   afrisent  \n",
       "2  Below is an instruction that describes a task,...   afrisent  \n",
       "3  Below is an instruction that describes a task,...   afrisent  \n",
       "4  Below is an instruction that describes a task,...   afrisent  "
      ]
     },
     "execution_count": 52,
     "metadata": {},
     "output_type": "execute_result"
    }
   ],
   "source": [
    "df5V.head()"
   ]
  },
  {
   "cell_type": "markdown",
   "metadata": {},
   "source": [
    "# Dataset 6"
   ]
  },
  {
   "cell_type": "code",
   "execution_count": 53,
   "metadata": {},
   "outputs": [
    {
     "name": "stderr",
     "output_type": "stream",
     "text": [
      "Downloading readme: 100%|██████████| 43.0/43.0 [00:00<00:00, 229kB/s]\n",
      "Downloading data: 100%|██████████| 817k/817k [00:00<00:00, 1.70MB/s]\n",
      "Downloading data: 100%|██████████| 169k/169k [00:00<00:00, 577kB/s]\n",
      "Downloading data: 100%|██████████| 176k/176k [00:00<00:00, 431kB/s]\n",
      "Generating train split: 100%|██████████| 1003/1003 [00:00<00:00, 4112.77 examples/s]\n",
      "Generating validation split: 100%|██████████| 215/215 [00:00<00:00, 17339.50 examples/s]\n",
      "Generating test split: 100%|██████████| 215/215 [00:00<00:00, 27746.08 examples/s]\n"
     ]
    }
   ],
   "source": [
    "dataset = load_dataset(\"Tvsybkzkmapab/Amharic_ad_generation\")"
   ]
  },
  {
   "cell_type": "code",
   "execution_count": 54,
   "metadata": {},
   "outputs": [
    {
     "name": "stderr",
     "output_type": "stream",
     "text": [
      "Saving the dataset (1/1 shards): 100%|██████████| 1003/1003 [00:00<00:00, 119581.78 examples/s]\n",
      "Saving the dataset (1/1 shards): 100%|██████████| 215/215 [00:00<00:00, 31794.08 examples/s]\n",
      "Saving the dataset (1/1 shards): 100%|██████████| 215/215 [00:00<00:00, 34089.72 examples/s]\n"
     ]
    }
   ],
   "source": [
    "dataset.save_to_disk(\"Tvsybkzkmapab/Amharic_ad_generation\")"
   ]
  },
  {
   "cell_type": "code",
   "execution_count": 55,
   "metadata": {},
   "outputs": [
    {
     "name": "stderr",
     "output_type": "stream",
     "text": [
      "Creating CSV from Arrow format: 100%|██████████| 2/2 [00:00<00:00, 66.01ba/s]\n",
      "Creating CSV from Arrow format: 100%|██████████| 1/1 [00:00<00:00, 178.52ba/s]\n",
      "Creating CSV from Arrow format: 100%|██████████| 1/1 [00:00<00:00, 152.54ba/s]\n"
     ]
    },
    {
     "data": {
      "text/plain": [
       "169341"
      ]
     },
     "execution_count": 55,
     "metadata": {},
     "output_type": "execute_result"
    }
   ],
   "source": [
    "dataset['train'].to_csv(\"data/Tvsybkzkmapab/Amharic_ad_generation_train.csv\")\n",
    "dataset['test'].to_csv(\"data/Tvsybkzkmapab/Amharic_ad_generation_test.csv\")\n",
    "dataset['validation'].to_csv(\"data/Tvsybkzkmapab/Amharic_ad_generation_validation.csv\")"
   ]
  },
  {
   "cell_type": "code",
   "execution_count": 56,
   "metadata": {},
   "outputs": [],
   "source": [
    "df6T = pd.read_csv(\"/home/moraa/Documents/10_academy/Week6/Notebooks/data/Tvsybkzkmapab/Amharic_ad_generation_train.csv\")"
   ]
  },
  {
   "cell_type": "code",
   "execution_count": 57,
   "metadata": {},
   "outputs": [
    {
     "data": {
      "text/html": [
       "<div>\n",
       "<style scoped>\n",
       "    .dataframe tbody tr th:only-of-type {\n",
       "        vertical-align: middle;\n",
       "    }\n",
       "\n",
       "    .dataframe tbody tr th {\n",
       "        vertical-align: top;\n",
       "    }\n",
       "\n",
       "    .dataframe thead th {\n",
       "        text-align: right;\n",
       "    }\n",
       "</style>\n",
       "<table border=\"1\" class=\"dataframe\">\n",
       "  <thead>\n",
       "    <tr style=\"text-align: right;\">\n",
       "      <th></th>\n",
       "      <th>text</th>\n",
       "      <th>Human_Label</th>\n",
       "    </tr>\n",
       "  </thead>\n",
       "  <tbody>\n",
       "    <tr>\n",
       "      <th>0</th>\n",
       "      <td>ADVERTISMENT አፊያ ሙሀመድ ከፍተኛ የባህል ሕክምና እና ዘመናዊ የ...</td>\n",
       "      <td>healthcare &amp;pharma</td>\n",
       "    </tr>\n",
       "    <tr>\n",
       "      <th>1</th>\n",
       "      <td>ከአዝናኝ ጨዋታዎች እና ሽልማቶች ጋር በያላችሁበት እየደረስን ነው፡፡ ዕድ...</td>\n",
       "      <td>Telecom</td>\n",
       "    </tr>\n",
       "    <tr>\n",
       "      <th>2</th>\n",
       "      <td>ይነበብ! ቴዲ አፍሮ ከአሜሪካ መልክት ለኢትዮጵያውያን አስተላላፊ። ዶክተር...</td>\n",
       "      <td>Media</td>\n",
       "    </tr>\n",
       "    <tr>\n",
       "      <th>3</th>\n",
       "      <td>በሳፋሪኮም ምቹ የድምጽ ፣ የፅሁፍ መልዕክት እና ፈጣን 4G የኢንተርኔት ...</td>\n",
       "      <td>Telecom</td>\n",
       "    </tr>\n",
       "    <tr>\n",
       "      <th>4</th>\n",
       "      <td>News Alert ‼️ የሀዋሳ ከተማ እና አካባቢዋ ፀጥታ በመከላከያ እና ...</td>\n",
       "      <td>Media</td>\n",
       "    </tr>\n",
       "  </tbody>\n",
       "</table>\n",
       "</div>"
      ],
      "text/plain": [
       "                                                text         Human_Label\n",
       "0  ADVERTISMENT አፊያ ሙሀመድ ከፍተኛ የባህል ሕክምና እና ዘመናዊ የ...  healthcare &pharma\n",
       "1  ከአዝናኝ ጨዋታዎች እና ሽልማቶች ጋር በያላችሁበት እየደረስን ነው፡፡ ዕድ...             Telecom\n",
       "2  ይነበብ! ቴዲ አፍሮ ከአሜሪካ መልክት ለኢትዮጵያውያን አስተላላፊ። ዶክተር...               Media\n",
       "3  በሳፋሪኮም ምቹ የድምጽ ፣ የፅሁፍ መልዕክት እና ፈጣን 4G የኢንተርኔት ...             Telecom\n",
       "4  News Alert ‼️ የሀዋሳ ከተማ እና አካባቢዋ ፀጥታ በመከላከያ እና ...               Media"
      ]
     },
     "execution_count": 57,
     "metadata": {},
     "output_type": "execute_result"
    }
   ],
   "source": [
    "df6T.head()"
   ]
  },
  {
   "cell_type": "code",
   "execution_count": 58,
   "metadata": {},
   "outputs": [],
   "source": [
    "df6S = pd.read_csv(\"/home/moraa/Documents/10_academy/Week6/Notebooks/data/Tvsybkzkmapab/Amharic_ad_generation_test.csv\")"
   ]
  },
  {
   "cell_type": "code",
   "execution_count": 59,
   "metadata": {},
   "outputs": [
    {
     "data": {
      "text/html": [
       "<div>\n",
       "<style scoped>\n",
       "    .dataframe tbody tr th:only-of-type {\n",
       "        vertical-align: middle;\n",
       "    }\n",
       "\n",
       "    .dataframe tbody tr th {\n",
       "        vertical-align: top;\n",
       "    }\n",
       "\n",
       "    .dataframe thead th {\n",
       "        text-align: right;\n",
       "    }\n",
       "</style>\n",
       "<table border=\"1\" class=\"dataframe\">\n",
       "  <thead>\n",
       "    <tr style=\"text-align: right;\">\n",
       "      <th></th>\n",
       "      <th>text</th>\n",
       "      <th>Human_Label</th>\n",
       "    </tr>\n",
       "  </thead>\n",
       "  <tbody>\n",
       "    <tr>\n",
       "      <th>0</th>\n",
       "      <td>ADVERTISMENT አፊያ ሙሀመድ ከፍተኛ የባህል ሕክምና እና ዘመናዊ የ...</td>\n",
       "      <td>healthcare &amp;pharma</td>\n",
       "    </tr>\n",
       "    <tr>\n",
       "      <th>1</th>\n",
       "      <td>Bulk SMS ለሁሉም ቢዝነሶቻችን የሚመቹ ጥቅሎች ይዞ መቷል። ከሁለቱ አ...</td>\n",
       "      <td>Telecom</td>\n",
       "    </tr>\n",
       "    <tr>\n",
       "      <th>2</th>\n",
       "      <td>⬆️⬆️ስለ ደብረ ማርቆስ ዩኒቨርሲቲ አጭር መረጃ! ዩኒቨርሲቲው ውስጥ ከሚ...</td>\n",
       "      <td>Media</td>\n",
       "    </tr>\n",
       "    <tr>\n",
       "      <th>3</th>\n",
       "      <td>ADVERTISMENT ወሎ ሀይቅ ቤት ከፈለጉ ይደውሉ 👇 ዶ/ር አብዱ፣ ዶ/...</td>\n",
       "      <td>financial service</td>\n",
       "    </tr>\n",
       "    <tr>\n",
       "      <th>4</th>\n",
       "      <td>ADVERTISMENT ሰላም👋 እንኳን ወደ Writer’s Desk Consul...</td>\n",
       "      <td>financial service</td>\n",
       "    </tr>\n",
       "  </tbody>\n",
       "</table>\n",
       "</div>"
      ],
      "text/plain": [
       "                                                text         Human_Label\n",
       "0  ADVERTISMENT አፊያ ሙሀመድ ከፍተኛ የባህል ሕክምና እና ዘመናዊ የ...  healthcare &pharma\n",
       "1  Bulk SMS ለሁሉም ቢዝነሶቻችን የሚመቹ ጥቅሎች ይዞ መቷል። ከሁለቱ አ...             Telecom\n",
       "2  ⬆️⬆️ስለ ደብረ ማርቆስ ዩኒቨርሲቲ አጭር መረጃ! ዩኒቨርሲቲው ውስጥ ከሚ...               Media\n",
       "3  ADVERTISMENT ወሎ ሀይቅ ቤት ከፈለጉ ይደውሉ 👇 ዶ/ር አብዱ፣ ዶ/...   financial service\n",
       "4  ADVERTISMENT ሰላም👋 እንኳን ወደ Writer’s Desk Consul...   financial service"
      ]
     },
     "execution_count": 59,
     "metadata": {},
     "output_type": "execute_result"
    }
   ],
   "source": [
    "df6S.head()"
   ]
  },
  {
   "cell_type": "code",
   "execution_count": 60,
   "metadata": {},
   "outputs": [],
   "source": [
    "df6V = pd.read_csv(\"/home/moraa/Documents/10_academy/Week6/Notebooks/data/Tvsybkzkmapab/Amharic_ad_generation_validation.csv\")"
   ]
  },
  {
   "cell_type": "code",
   "execution_count": 61,
   "metadata": {},
   "outputs": [
    {
     "data": {
      "text/html": [
       "<div>\n",
       "<style scoped>\n",
       "    .dataframe tbody tr th:only-of-type {\n",
       "        vertical-align: middle;\n",
       "    }\n",
       "\n",
       "    .dataframe tbody tr th {\n",
       "        vertical-align: top;\n",
       "    }\n",
       "\n",
       "    .dataframe thead th {\n",
       "        text-align: right;\n",
       "    }\n",
       "</style>\n",
       "<table border=\"1\" class=\"dataframe\">\n",
       "  <thead>\n",
       "    <tr style=\"text-align: right;\">\n",
       "      <th></th>\n",
       "      <th>text</th>\n",
       "      <th>Human_Label</th>\n",
       "    </tr>\n",
       "  </thead>\n",
       "  <tbody>\n",
       "    <tr>\n",
       "      <th>0</th>\n",
       "      <td>ADVERTISMENT አፊያ ሙሀመድ ከፍተኛ የባህል ሕክምና እና ዘመናዊ የ...</td>\n",
       "      <td>healthcare &amp;pharma</td>\n",
       "    </tr>\n",
       "    <tr>\n",
       "      <th>1</th>\n",
       "      <td>ADVERTISMENT መልካም ነገር ከሉሲ የአጥንትና የመገጣጠሚያ ቀዶ ሕክ...</td>\n",
       "      <td>healthcare &amp;pharma</td>\n",
       "    </tr>\n",
       "    <tr>\n",
       "      <th>2</th>\n",
       "      <td>ADVERTISMENT ሰለሞን ጌታቸው የተመሰከረለት የሂሳብ አዋቂና የንግድ...</td>\n",
       "      <td>financial service</td>\n",
       "    </tr>\n",
       "    <tr>\n",
       "      <th>3</th>\n",
       "      <td>Samsung A04 በመግዛት ህይወታችንን እናዘምን! ዛሬውኑ አቅራቢያችን ...</td>\n",
       "      <td>Telecom</td>\n",
       "    </tr>\n",
       "    <tr>\n",
       "      <th>4</th>\n",
       "      <td>እንኳን ደስ አለህ ፋሂም! \\nፋሂም ዚያድ ከድሬዳዋ በእጣ ቁጥር S0261...</td>\n",
       "      <td>Telecom</td>\n",
       "    </tr>\n",
       "  </tbody>\n",
       "</table>\n",
       "</div>"
      ],
      "text/plain": [
       "                                                text         Human_Label\n",
       "0  ADVERTISMENT አፊያ ሙሀመድ ከፍተኛ የባህል ሕክምና እና ዘመናዊ የ...  healthcare &pharma\n",
       "1  ADVERTISMENT መልካም ነገር ከሉሲ የአጥንትና የመገጣጠሚያ ቀዶ ሕክ...  healthcare &pharma\n",
       "2  ADVERTISMENT ሰለሞን ጌታቸው የተመሰከረለት የሂሳብ አዋቂና የንግድ...   financial service\n",
       "3  Samsung A04 በመግዛት ህይወታችንን እናዘምን! ዛሬውኑ አቅራቢያችን ...             Telecom\n",
       "4  እንኳን ደስ አለህ ፋሂም! \\nፋሂም ዚያድ ከድሬዳዋ በእጣ ቁጥር S0261...             Telecom"
      ]
     },
     "execution_count": 61,
     "metadata": {},
     "output_type": "execute_result"
    }
   ],
   "source": [
    "df6V.head()"
   ]
  },
  {
   "cell_type": "code",
   "execution_count": null,
   "metadata": {},
   "outputs": [],
   "source": []
  },
  {
   "cell_type": "markdown",
   "metadata": {},
   "source": [
    "# Dataset 7"
   ]
  },
  {
   "cell_type": "code",
   "execution_count": 62,
   "metadata": {},
   "outputs": [
    {
     "name": "stderr",
     "output_type": "stream",
     "text": [
      "Downloading readme: 100%|██████████| 561/561 [00:00<00:00, 3.15MB/s]\n",
      "Downloading data: 100%|██████████| 82.8M/82.8M [00:09<00:00, 9.17MB/s]\n",
      "Downloading data: 100%|██████████| 20.8M/20.8M [00:02<00:00, 7.73MB/s]\n",
      "Generating train split: 100%|██████████| 416484/416484 [00:00<00:00, 530716.25 examples/s]\n",
      "Generating test split: 100%|██████████| 104121/104121 [00:00<00:00, 507783.49 examples/s]\n"
     ]
    }
   ],
   "source": [
    "dataset = load_dataset(\"BiniyamAjaw/amharic_dataset_v2\")"
   ]
  },
  {
   "cell_type": "code",
   "execution_count": 63,
   "metadata": {},
   "outputs": [
    {
     "name": "stderr",
     "output_type": "stream",
     "text": [
      "Saving the dataset (1/1 shards): 100%|██████████| 416484/416484 [00:00<00:00, 1396008.64 examples/s]\n",
      "Saving the dataset (1/1 shards): 100%|██████████| 104121/104121 [00:00<00:00, 1457757.95 examples/s]\n"
     ]
    }
   ],
   "source": [
    "dataset.save_to_disk(\"BiniyamAjaw/amharic_dataset_v2\")"
   ]
  },
  {
   "cell_type": "code",
   "execution_count": 64,
   "metadata": {},
   "outputs": [
    {
     "name": "stderr",
     "output_type": "stream",
     "text": [
      "Creating CSV from Arrow format: 100%|██████████| 417/417 [00:02<00:00, 141.67ba/s]\n",
      "Creating CSV from Arrow format: 100%|██████████| 105/105 [00:00<00:00, 147.92ba/s]\n"
     ]
    },
    {
     "data": {
      "text/plain": [
       "38504382"
      ]
     },
     "execution_count": 64,
     "metadata": {},
     "output_type": "execute_result"
    }
   ],
   "source": [
    "dataset['train'].to_csv(\"data/BiniyamAjaw/amharic_dataset_v2_train.csv\")\n",
    "dataset['test'].to_csv(\"data/BiniyamAjaw/amharic_dataset_v2_test.csv\")"
   ]
  },
  {
   "cell_type": "code",
   "execution_count": 65,
   "metadata": {},
   "outputs": [],
   "source": [
    "df7T = pd.read_csv(\"/home/moraa/Documents/10_academy/Week6/Notebooks/data/BiniyamAjaw/amharic_dataset_v2_train.csv\")\n"
   ]
  },
  {
   "cell_type": "code",
   "execution_count": 66,
   "metadata": {},
   "outputs": [
    {
     "data": {
      "text/html": [
       "<div>\n",
       "<style scoped>\n",
       "    .dataframe tbody tr th:only-of-type {\n",
       "        vertical-align: middle;\n",
       "    }\n",
       "\n",
       "    .dataframe tbody tr th {\n",
       "        vertical-align: top;\n",
       "    }\n",
       "\n",
       "    .dataframe thead th {\n",
       "        text-align: right;\n",
       "    }\n",
       "</style>\n",
       "<table border=\"1\" class=\"dataframe\">\n",
       "  <thead>\n",
       "    <tr style=\"text-align: right;\">\n",
       "      <th></th>\n",
       "      <th>text</th>\n",
       "    </tr>\n",
       "  </thead>\n",
       "  <tbody>\n",
       "    <tr>\n",
       "      <th>0</th>\n",
       "      <td>ኦሌ ጉናር ሶልሻየር ስለ አዲሱ ፈራሚያችን ማርቲን ኦዴጋርድ ማርቲን በጣም...</td>\n",
       "    </tr>\n",
       "    <tr>\n",
       "      <th>1</th>\n",
       "      <td>ቲያጎ አልካንትራ : ኳሱን ሰጥተነው ወደ ኋላ ቆመን እንመለከት ነበር። ሰ...</td>\n",
       "    </tr>\n",
       "    <tr>\n",
       "      <th>2</th>\n",
       "      <td>ዛሬ ቫይረሱ የተገኘባቸው 250 ሰዎች ሲሆኑ ከአስሩ በስተቀር ሁሉም ኢትዮ...</td>\n",
       "    </tr>\n",
       "    <tr>\n",
       "      <th>3</th>\n",
       "      <td>ካርሎ አንቸሎቲ ስለነገዉ የቪያሪያል ጨዋታ የሰጠዉ ጋዜጣዊ መግለጫ ! ቪያ...</td>\n",
       "    </tr>\n",
       "    <tr>\n",
       "      <th>4</th>\n",
       "      <td>HPE grade 9 teacher guide (New Curriculum)</td>\n",
       "    </tr>\n",
       "  </tbody>\n",
       "</table>\n",
       "</div>"
      ],
      "text/plain": [
       "                                                text\n",
       "0  ኦሌ ጉናር ሶልሻየር ስለ አዲሱ ፈራሚያችን ማርቲን ኦዴጋርድ ማርቲን በጣም...\n",
       "1  ቲያጎ አልካንትራ : ኳሱን ሰጥተነው ወደ ኋላ ቆመን እንመለከት ነበር። ሰ...\n",
       "2  ዛሬ ቫይረሱ የተገኘባቸው 250 ሰዎች ሲሆኑ ከአስሩ በስተቀር ሁሉም ኢትዮ...\n",
       "3  ካርሎ አንቸሎቲ ስለነገዉ የቪያሪያል ጨዋታ የሰጠዉ ጋዜጣዊ መግለጫ ! ቪያ...\n",
       "4         HPE grade 9 teacher guide (New Curriculum)"
      ]
     },
     "execution_count": 66,
     "metadata": {},
     "output_type": "execute_result"
    }
   ],
   "source": [
    "df7T.head()"
   ]
  },
  {
   "cell_type": "code",
   "execution_count": 67,
   "metadata": {},
   "outputs": [],
   "source": [
    "\n",
    "df7S = pd.read_csv(\"/home/moraa/Documents/10_academy/Week6/Notebooks/data/BiniyamAjaw/amharic_dataset_v2_test.csv\")"
   ]
  },
  {
   "cell_type": "code",
   "execution_count": 68,
   "metadata": {},
   "outputs": [
    {
     "data": {
      "text/html": [
       "<div>\n",
       "<style scoped>\n",
       "    .dataframe tbody tr th:only-of-type {\n",
       "        vertical-align: middle;\n",
       "    }\n",
       "\n",
       "    .dataframe tbody tr th {\n",
       "        vertical-align: top;\n",
       "    }\n",
       "\n",
       "    .dataframe thead th {\n",
       "        text-align: right;\n",
       "    }\n",
       "</style>\n",
       "<table border=\"1\" class=\"dataframe\">\n",
       "  <thead>\n",
       "    <tr style=\"text-align: right;\">\n",
       "      <th></th>\n",
       "      <th>text</th>\n",
       "    </tr>\n",
       "  </thead>\n",
       "  <tbody>\n",
       "    <tr>\n",
       "      <th>0</th>\n",
       "      <td>የኦሮሚያ ሀ 17 ውድድር የዛሬ ውጤት ! 2:00</td>\n",
       "    </tr>\n",
       "    <tr>\n",
       "      <th>1</th>\n",
       "      <td>በቅርብ ቀን</td>\n",
       "    </tr>\n",
       "    <tr>\n",
       "      <th>2</th>\n",
       "      <td>ጁድ ቤሊንግሀም የጎልደን ቦይ ውድድር ሽልማትን ጠቅላላ በሚባል ደረጃ 97...</td>\n",
       "    </tr>\n",
       "    <tr>\n",
       "      <th>3</th>\n",
       "      <td>የቻይና ምርት በሙሉ fake ነዉ ይለኛል :</td>\n",
       "    </tr>\n",
       "    <tr>\n",
       "      <th>4</th>\n",
       "      <td>የመልስ ምት ለ ፎረስት</td>\n",
       "    </tr>\n",
       "  </tbody>\n",
       "</table>\n",
       "</div>"
      ],
      "text/plain": [
       "                                                text\n",
       "0                     የኦሮሚያ ሀ 17 ውድድር የዛሬ ውጤት ! 2:00\n",
       "1                                            በቅርብ ቀን\n",
       "2  ጁድ ቤሊንግሀም የጎልደን ቦይ ውድድር ሽልማትን ጠቅላላ በሚባል ደረጃ 97...\n",
       "3                        የቻይና ምርት በሙሉ fake ነዉ ይለኛል :\n",
       "4                                     የመልስ ምት ለ ፎረስት"
      ]
     },
     "execution_count": 68,
     "metadata": {},
     "output_type": "execute_result"
    }
   ],
   "source": [
    "df7S.head()"
   ]
  },
  {
   "cell_type": "code",
   "execution_count": null,
   "metadata": {},
   "outputs": [],
   "source": []
  },
  {
   "cell_type": "markdown",
   "metadata": {},
   "source": [
    "# Dataset 8"
   ]
  },
  {
   "cell_type": "code",
   "execution_count": 69,
   "metadata": {},
   "outputs": [
    {
     "name": "stderr",
     "output_type": "stream",
     "text": [
      "Downloading readme: 100%|██████████| 3.51k/3.51k [00:00<00:00, 4.79MB/s]\n",
      "Downloading data: 100%|██████████| 5.42M/5.42M [00:02<00:00, 2.66MB/s]\n",
      "Downloading data: 100%|██████████| 788k/788k [00:01<00:00, 601kB/s]\n",
      "Downloading data: 100%|██████████| 1.54M/1.54M [00:00<00:00, 3.74MB/s]\n",
      "Generating train split: 100%|██████████| 1831/1831 [00:00<00:00, 30103.17 examples/s]\n",
      "Generating validation split: 100%|██████████| 263/263 [00:00<00:00, 37603.61 examples/s]\n",
      "Generating test split: 100%|██████████| 523/523 [00:00<00:00, 38694.34 examples/s]\n"
     ]
    }
   ],
   "source": [
    "dataset = load_dataset(\"Henok/amharic-qa\")"
   ]
  },
  {
   "cell_type": "code",
   "execution_count": 70,
   "metadata": {},
   "outputs": [
    {
     "name": "stderr",
     "output_type": "stream",
     "text": [
      "Saving the dataset (1/1 shards): 100%|██████████| 1831/1831 [00:00<00:00, 168261.05 examples/s]\n",
      "Saving the dataset (1/1 shards): 100%|██████████| 263/263 [00:00<00:00, 40568.64 examples/s]\n",
      "Saving the dataset (1/1 shards): 100%|██████████| 523/523 [00:00<00:00, 68983.96 examples/s]\n"
     ]
    }
   ],
   "source": [
    "dataset.save_to_disk(\"Henok/amharic-qa\")"
   ]
  },
  {
   "cell_type": "code",
   "execution_count": 71,
   "metadata": {},
   "outputs": [
    {
     "name": "stderr",
     "output_type": "stream",
     "text": [
      "Creating CSV from Arrow format: 100%|██████████| 2/2 [00:00<00:00, 19.92ba/s]\n",
      "Creating CSV from Arrow format: 100%|██████████| 1/1 [00:00<00:00, 31.90ba/s]\n",
      "Creating CSV from Arrow format: 100%|██████████| 1/1 [00:00<00:00, 62.81ba/s]\n"
     ]
    },
    {
     "data": {
      "text/plain": [
       "773160"
      ]
     },
     "execution_count": 71,
     "metadata": {},
     "output_type": "execute_result"
    }
   ],
   "source": [
    "dataset['train'].to_csv(\"data/Henok/amharic-qa_train.csv\")\n",
    "dataset['test'].to_csv(\"data/Henok/amharic-qa_test.csv\")\n",
    "dataset['validation'].to_csv(\"data/Henok/amharic-qa_validation.csv\")"
   ]
  },
  {
   "cell_type": "code",
   "execution_count": 72,
   "metadata": {},
   "outputs": [],
   "source": [
    "df8T = pd.read_csv(\"/home/moraa/Documents/10_academy/Week6/Notebooks/data/Henok/amharic-qa_train.csv\")"
   ]
  },
  {
   "cell_type": "code",
   "execution_count": 73,
   "metadata": {},
   "outputs": [
    {
     "data": {
      "text/html": [
       "<div>\n",
       "<style scoped>\n",
       "    .dataframe tbody tr th:only-of-type {\n",
       "        vertical-align: middle;\n",
       "    }\n",
       "\n",
       "    .dataframe tbody tr th {\n",
       "        vertical-align: top;\n",
       "    }\n",
       "\n",
       "    .dataframe thead th {\n",
       "        text-align: right;\n",
       "    }\n",
       "</style>\n",
       "<table border=\"1\" class=\"dataframe\">\n",
       "  <thead>\n",
       "    <tr style=\"text-align: right;\">\n",
       "      <th></th>\n",
       "      <th>targets</th>\n",
       "      <th>inputs</th>\n",
       "    </tr>\n",
       "  </thead>\n",
       "  <tbody>\n",
       "    <tr>\n",
       "      <th>0</th>\n",
       "      <td>ከጥያቄው አንጻር ትክክለኛው መልስ 229 ቢሊየን ነው።</td>\n",
       "      <td>ከዚህ በታች ያለውን ዝርዝር መረጃ በመጠቀም ለሚከተለው ጥያቄ መልስ ይስጡ...</td>\n",
       "    </tr>\n",
       "    <tr>\n",
       "      <th>1</th>\n",
       "      <td>ለተጠቀሰው ጥያቄ ትክክለኛው ምላሽ ፕሮፌሰር ሂሩት ወልደማርያም ነው።</td>\n",
       "      <td>የተሰጠውን ጥያቄ ለመመለስ ከዚህ በታች የቀረበውን መረጃ ይመልከቱ፡ \\nተ...</td>\n",
       "    </tr>\n",
       "    <tr>\n",
       "      <th>2</th>\n",
       "      <td>ለጥያቄው ትክክለኛው ምላሽ ጠቅላይ ሚኒስትር ዐቢይ አሕመድ ነው።</td>\n",
       "      <td>የተሰጠውን ጥያቄ ከዚህ በታች በተሰጠው አውድ መሰረት መልሱ፡ \\nየመደመር...</td>\n",
       "    </tr>\n",
       "    <tr>\n",
       "      <th>3</th>\n",
       "      <td>ለጥያቄው መልሱ በፈረንጆቹ 2010 ነው።</td>\n",
       "      <td>ለሚከተለው ጥያቄ ምላሽ ለመስጠት ከዚህ በታች የቀረበውን አውድ ተጠቀም፡ ...</td>\n",
       "    </tr>\n",
       "    <tr>\n",
       "      <th>4</th>\n",
       "      <td>ከጥያቄው ጋር የሚስማማው ምላሽ ከክላርኔት በተጨማሪ “አኮርዲዮን፣ አልቶ-...</td>\n",
       "      <td>ከዚህ በታች በተገለጸው አውድ ተከታዩን ጥያቄ ይመልሱ፡ \\nሳህሌ ደጋጎ ኮ...</td>\n",
       "    </tr>\n",
       "  </tbody>\n",
       "</table>\n",
       "</div>"
      ],
      "text/plain": [
       "                                             targets  \\\n",
       "0                 ከጥያቄው አንጻር ትክክለኛው መልስ 229 ቢሊየን ነው።   \n",
       "1        ለተጠቀሰው ጥያቄ ትክክለኛው ምላሽ ፕሮፌሰር ሂሩት ወልደማርያም ነው።   \n",
       "2           ለጥያቄው ትክክለኛው ምላሽ ጠቅላይ ሚኒስትር ዐቢይ አሕመድ ነው።   \n",
       "3                          ለጥያቄው መልሱ በፈረንጆቹ 2010 ነው።   \n",
       "4  ከጥያቄው ጋር የሚስማማው ምላሽ ከክላርኔት በተጨማሪ “አኮርዲዮን፣ አልቶ-...   \n",
       "\n",
       "                                              inputs  \n",
       "0  ከዚህ በታች ያለውን ዝርዝር መረጃ በመጠቀም ለሚከተለው ጥያቄ መልስ ይስጡ...  \n",
       "1  የተሰጠውን ጥያቄ ለመመለስ ከዚህ በታች የቀረበውን መረጃ ይመልከቱ፡ \\nተ...  \n",
       "2  የተሰጠውን ጥያቄ ከዚህ በታች በተሰጠው አውድ መሰረት መልሱ፡ \\nየመደመር...  \n",
       "3  ለሚከተለው ጥያቄ ምላሽ ለመስጠት ከዚህ በታች የቀረበውን አውድ ተጠቀም፡ ...  \n",
       "4  ከዚህ በታች በተገለጸው አውድ ተከታዩን ጥያቄ ይመልሱ፡ \\nሳህሌ ደጋጎ ኮ...  "
      ]
     },
     "execution_count": 73,
     "metadata": {},
     "output_type": "execute_result"
    }
   ],
   "source": [
    "df8T.head()"
   ]
  },
  {
   "cell_type": "code",
   "execution_count": 74,
   "metadata": {},
   "outputs": [],
   "source": [
    "df8S = pd.read_csv(\"/home/moraa/Documents/10_academy/Week6/Notebooks/data/Henok/amharic-qa_test.csv\")"
   ]
  },
  {
   "cell_type": "code",
   "execution_count": 75,
   "metadata": {},
   "outputs": [
    {
     "data": {
      "text/html": [
       "<div>\n",
       "<style scoped>\n",
       "    .dataframe tbody tr th:only-of-type {\n",
       "        vertical-align: middle;\n",
       "    }\n",
       "\n",
       "    .dataframe tbody tr th {\n",
       "        vertical-align: top;\n",
       "    }\n",
       "\n",
       "    .dataframe thead th {\n",
       "        text-align: right;\n",
       "    }\n",
       "</style>\n",
       "<table border=\"1\" class=\"dataframe\">\n",
       "  <thead>\n",
       "    <tr style=\"text-align: right;\">\n",
       "      <th></th>\n",
       "      <th>targets</th>\n",
       "      <th>inputs</th>\n",
       "    </tr>\n",
       "  </thead>\n",
       "  <tbody>\n",
       "    <tr>\n",
       "      <th>0</th>\n",
       "      <td>ለተጠቀሰው ጥያቄ ትክክለኛው ምላሽ በዛምቢያ ነው።</td>\n",
       "      <td>የተሰጠውን ጥያቄ ለመመለስ ከዚህ በታች የቀረበውን መረጃ ይመልከቱ፡ \\nመ...</td>\n",
       "    </tr>\n",
       "    <tr>\n",
       "      <th>1</th>\n",
       "      <td>ከጥያቄው ጋር የሚስማማው ምላሽ በ1927 እ.ኤ.አ. ነው።</td>\n",
       "      <td>ከዚህ በታች በተገለጸው አውድ ተከታዩን ጥያቄ ይመልሱ፡ \\nቴሌቪዥን ቴሌቪ...</td>\n",
       "    </tr>\n",
       "    <tr>\n",
       "      <th>2</th>\n",
       "      <td>ለጥያቄው ትክክለኛው ምላሽ በቁርጥራጭ ብረትና ያገለገሉ ማሽኖች ንግድ ነው።</td>\n",
       "      <td>የተሰጠውን ጥያቄ ከዚህ በታች በተሰጠው አውድ መሰረት መልሱ፡ \\n﻿በቁርጥ...</td>\n",
       "    </tr>\n",
       "    <tr>\n",
       "      <th>3</th>\n",
       "      <td>ከጥያቄው ጋር የሚስማማው ምላሽ ቤርድ ነው።</td>\n",
       "      <td>ከዚህ በታች በተገለጸው አውድ ተከታዩን ጥያቄ ይመልሱ፡ \\nበርግጥም የመጀ...</td>\n",
       "    </tr>\n",
       "    <tr>\n",
       "      <th>4</th>\n",
       "      <td>ለጥያቄው ትክክለኛው ምላሽ 109 ነው።</td>\n",
       "      <td>የተሰጠውን ጥያቄ ከዚህ በታች በተሰጠው አውድ መሰረት መልሱ፡ \\nመንግሥት...</td>\n",
       "    </tr>\n",
       "  </tbody>\n",
       "</table>\n",
       "</div>"
      ],
      "text/plain": [
       "                                           targets  \\\n",
       "0                  ለተጠቀሰው ጥያቄ ትክክለኛው ምላሽ በዛምቢያ ነው።   \n",
       "1             ከጥያቄው ጋር የሚስማማው ምላሽ በ1927 እ.ኤ.አ. ነው።   \n",
       "2  ለጥያቄው ትክክለኛው ምላሽ በቁርጥራጭ ብረትና ያገለገሉ ማሽኖች ንግድ ነው።   \n",
       "3                      ከጥያቄው ጋር የሚስማማው ምላሽ ቤርድ ነው።   \n",
       "4                         ለጥያቄው ትክክለኛው ምላሽ 109 ነው።   \n",
       "\n",
       "                                              inputs  \n",
       "0  የተሰጠውን ጥያቄ ለመመለስ ከዚህ በታች የቀረበውን መረጃ ይመልከቱ፡ \\nመ...  \n",
       "1  ከዚህ በታች በተገለጸው አውድ ተከታዩን ጥያቄ ይመልሱ፡ \\nቴሌቪዥን ቴሌቪ...  \n",
       "2  የተሰጠውን ጥያቄ ከዚህ በታች በተሰጠው አውድ መሰረት መልሱ፡ \\n﻿በቁርጥ...  \n",
       "3  ከዚህ በታች በተገለጸው አውድ ተከታዩን ጥያቄ ይመልሱ፡ \\nበርግጥም የመጀ...  \n",
       "4  የተሰጠውን ጥያቄ ከዚህ በታች በተሰጠው አውድ መሰረት መልሱ፡ \\nመንግሥት...  "
      ]
     },
     "execution_count": 75,
     "metadata": {},
     "output_type": "execute_result"
    }
   ],
   "source": [
    "df8S.head()"
   ]
  },
  {
   "cell_type": "code",
   "execution_count": 76,
   "metadata": {},
   "outputs": [],
   "source": [
    "df8V = pd.read_csv(\"/home/moraa/Documents/10_academy/Week6/Notebooks/data/Henok/amharic-qa_validation.csv\")"
   ]
  },
  {
   "cell_type": "code",
   "execution_count": 77,
   "metadata": {},
   "outputs": [
    {
     "data": {
      "text/html": [
       "<div>\n",
       "<style scoped>\n",
       "    .dataframe tbody tr th:only-of-type {\n",
       "        vertical-align: middle;\n",
       "    }\n",
       "\n",
       "    .dataframe tbody tr th {\n",
       "        vertical-align: top;\n",
       "    }\n",
       "\n",
       "    .dataframe thead th {\n",
       "        text-align: right;\n",
       "    }\n",
       "</style>\n",
       "<table border=\"1\" class=\"dataframe\">\n",
       "  <thead>\n",
       "    <tr style=\"text-align: right;\">\n",
       "      <th></th>\n",
       "      <th>targets</th>\n",
       "      <th>inputs</th>\n",
       "    </tr>\n",
       "  </thead>\n",
       "  <tbody>\n",
       "    <tr>\n",
       "      <th>0</th>\n",
       "      <td>ከጥያቄው አንጻር ትክክለኛው መልስ ከአውስትራሊያ ነው።</td>\n",
       "      <td>ከዚህ በታች ያለውን ዝርዝር መረጃ በመጠቀም ለሚከተለው ጥያቄ መልስ ይስጡ...</td>\n",
       "    </tr>\n",
       "    <tr>\n",
       "      <th>1</th>\n",
       "      <td>ለጥያቄው መልሱ ጋዜጠኛ ልኡልሰገድ ኩምሳ ነው።</td>\n",
       "      <td>ለሚከተለው ጥያቄ ምላሽ ለመስጠት ከዚህ በታች የቀረበውን አውድ ተጠቀም፡ ...</td>\n",
       "    </tr>\n",
       "    <tr>\n",
       "      <th>2</th>\n",
       "      <td>ለተጠቀሰው ጥያቄ ትክክለኛው ምላሽ ቴሌቪዥን ነው።</td>\n",
       "      <td>የተሰጠውን ጥያቄ ለመመለስ ከዚህ በታች የቀረበውን መረጃ ይመልከቱ፡ \\nቴ...</td>\n",
       "    </tr>\n",
       "    <tr>\n",
       "      <th>3</th>\n",
       "      <td>ለጥያቄው መልሱ በዳጋ ደሴት ነው።</td>\n",
       "      <td>ለሚከተለው ጥያቄ ምላሽ ለመስጠት ከዚህ በታች የቀረበውን አውድ ተጠቀም፡ ...</td>\n",
       "    </tr>\n",
       "    <tr>\n",
       "      <th>4</th>\n",
       "      <td>ለተጠቀሰው ጥያቄ ትክክለኛው ምላሽ ቶማስ ጄፈርሰን ነው።</td>\n",
       "      <td>የተሰጠውን ጥያቄ ለመመለስ ከዚህ በታች የቀረበውን መረጃ ይመልከቱ፡ \\nቶ...</td>\n",
       "    </tr>\n",
       "  </tbody>\n",
       "</table>\n",
       "</div>"
      ],
      "text/plain": [
       "                               targets  \\\n",
       "0   ከጥያቄው አንጻር ትክክለኛው መልስ ከአውስትራሊያ ነው።   \n",
       "1        ለጥያቄው መልሱ ጋዜጠኛ ልኡልሰገድ ኩምሳ ነው።   \n",
       "2      ለተጠቀሰው ጥያቄ ትክክለኛው ምላሽ ቴሌቪዥን ነው።   \n",
       "3                ለጥያቄው መልሱ በዳጋ ደሴት ነው።   \n",
       "4  ለተጠቀሰው ጥያቄ ትክክለኛው ምላሽ ቶማስ ጄፈርሰን ነው።   \n",
       "\n",
       "                                              inputs  \n",
       "0  ከዚህ በታች ያለውን ዝርዝር መረጃ በመጠቀም ለሚከተለው ጥያቄ መልስ ይስጡ...  \n",
       "1  ለሚከተለው ጥያቄ ምላሽ ለመስጠት ከዚህ በታች የቀረበውን አውድ ተጠቀም፡ ...  \n",
       "2  የተሰጠውን ጥያቄ ለመመለስ ከዚህ በታች የቀረበውን መረጃ ይመልከቱ፡ \\nቴ...  \n",
       "3  ለሚከተለው ጥያቄ ምላሽ ለመስጠት ከዚህ በታች የቀረበውን አውድ ተጠቀም፡ ...  \n",
       "4  የተሰጠውን ጥያቄ ለመመለስ ከዚህ በታች የቀረበውን መረጃ ይመልከቱ፡ \\nቶ...  "
      ]
     },
     "execution_count": 77,
     "metadata": {},
     "output_type": "execute_result"
    }
   ],
   "source": [
    "df8V.head()"
   ]
  },
  {
   "cell_type": "code",
   "execution_count": null,
   "metadata": {},
   "outputs": [],
   "source": []
  }
 ],
 "metadata": {
  "kernelspec": {
   "display_name": "venv",
   "language": "python",
   "name": "python3"
  },
  "language_info": {
   "codemirror_mode": {
    "name": "ipython",
    "version": 3
   },
   "file_extension": ".py",
   "mimetype": "text/x-python",
   "name": "python",
   "nbconvert_exporter": "python",
   "pygments_lexer": "ipython3",
   "version": "3.10.12"
  }
 },
 "nbformat": 4,
 "nbformat_minor": 2
}
